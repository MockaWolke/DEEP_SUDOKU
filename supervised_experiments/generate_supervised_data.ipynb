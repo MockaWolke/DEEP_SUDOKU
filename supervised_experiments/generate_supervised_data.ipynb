{
 "cells": [
  {
   "cell_type": "code",
   "execution_count": 1,
   "metadata": {},
   "outputs": [],
   "source": [
    "from deepsudoku import REPO_PATH\n",
    "import os\n",
    "os.chdir(REPO_PATH)\n",
    "import glob\n",
    "import pandas as pd\n",
    "import matplotlib.pyplot as plt\n",
    "import seaborn as sns\n",
    "import numpy as np\n",
    "from pathlib import Path\n",
    "import tqdm\n",
    "from deepsudoku.generate import Solver"
   ]
  },
  {
   "cell_type": "code",
   "execution_count": 35,
   "metadata": {},
   "outputs": [
    {
     "data": {
      "text/html": [
       "<div>\n",
       "<style scoped>\n",
       "    .dataframe tbody tr th:only-of-type {\n",
       "        vertical-align: middle;\n",
       "    }\n",
       "\n",
       "    .dataframe tbody tr th {\n",
       "        vertical-align: top;\n",
       "    }\n",
       "\n",
       "    .dataframe thead th {\n",
       "        text-align: right;\n",
       "    }\n",
       "</style>\n",
       "<table border=\"1\" class=\"dataframe\">\n",
       "  <thead>\n",
       "    <tr style=\"text-align: right;\">\n",
       "      <th></th>\n",
       "      <th>quiz</th>\n",
       "      <th>solution</th>\n",
       "      <th>difficulty</th>\n",
       "      <th>considering_density</th>\n",
       "      <th>origin</th>\n",
       "    </tr>\n",
       "  </thead>\n",
       "  <tbody>\n",
       "    <tr>\n",
       "      <th>count</th>\n",
       "      <td>1900000</td>\n",
       "      <td>1900000</td>\n",
       "      <td>1900000</td>\n",
       "      <td>1900000</td>\n",
       "      <td>1900000</td>\n",
       "    </tr>\n",
       "    <tr>\n",
       "      <th>unique</th>\n",
       "      <td>1900000</td>\n",
       "      <td>1900000</td>\n",
       "      <td>5</td>\n",
       "      <td>2</td>\n",
       "      <td>1</td>\n",
       "    </tr>\n",
       "    <tr>\n",
       "      <th>top</th>\n",
       "      <td>.5...6289..3........65.9..1..4.129689.284..7.3...</td>\n",
       "      <td>1574362894932816578265794315743129689628451733...</td>\n",
       "      <td>insane</td>\n",
       "      <td>True</td>\n",
       "      <td>our_data</td>\n",
       "    </tr>\n",
       "    <tr>\n",
       "      <th>freq</th>\n",
       "      <td>1</td>\n",
       "      <td>1</td>\n",
       "      <td>1000000</td>\n",
       "      <td>1000000</td>\n",
       "      <td>1900000</td>\n",
       "    </tr>\n",
       "  </tbody>\n",
       "</table>\n",
       "</div>"
      ],
      "text/plain": [
       "                                                     quiz  \\\n",
       "count                                             1900000   \n",
       "unique                                            1900000   \n",
       "top     .5...6289..3........65.9..1..4.129689.284..7.3...   \n",
       "freq                                                    1   \n",
       "\n",
       "                                                 solution difficulty  \\\n",
       "count                                             1900000    1900000   \n",
       "unique                                            1900000          5   \n",
       "top     1574362894932816578265794315743129689628451733...     insane   \n",
       "freq                                                    1    1000000   \n",
       "\n",
       "       considering_density    origin  \n",
       "count              1900000   1900000  \n",
       "unique                   2         1  \n",
       "top                   True  our_data  \n",
       "freq               1000000   1900000  "
      ]
     },
     "execution_count": 35,
     "metadata": {},
     "output_type": "execute_result"
    }
   ],
   "source": [
    "dfs = []\n",
    "\n",
    "\n",
    "for path in glob.glob(\"data/*/*.txt\"):\n",
    "    \n",
    "    \n",
    "    with open(path, \"r\") as f:\n",
    "        \n",
    "        lines = f.readlines()\n",
    "        lines = [i.replace(\"\\n\", \"\").split() for i in lines if '#' not in i]\n",
    "\n",
    "    quizzes = [l[0] for l in lines]\n",
    "    solutions = [l[1] for l in lines]\n",
    "\n",
    "    df = pd.DataFrame({'quiz': quizzes,\n",
    "                    'solution': solutions})\n",
    "\n",
    "    name = Path(path).parent.name\n",
    "\n",
    "    df[\"difficulty\"] = name[:name.find(\"_\")]\n",
    "    df[\"considering_density\"] = name[name.find(\"_\")+1:] == \"considering_density\"\n",
    "\n",
    "    dfs.append(df)\n",
    "    \n",
    "our_data = pd.concat(dfs)\n",
    "our_data[\"origin\"] = \"our_data\"\n",
    "our_data.describe()"
   ]
  },
  {
   "cell_type": "code",
   "execution_count": 36,
   "metadata": {},
   "outputs": [
    {
     "data": {
      "text/plain": [
       "<Axes: xlabel='difficulty'>"
      ]
     },
     "execution_count": 36,
     "metadata": {},
     "output_type": "execute_result"
    },
    {
     "data": {
      "image/png": "[encoded data removed]",
      "text/plain": [
       "<Figure size 640x480 with 1 Axes>"
      ]
     },
     "metadata": {},
     "output_type": "display_data"
    }
   ],
   "source": [
    "our_data.value_counts(\"difficulty\").plot.bar()"
   ]
  },
  {
   "cell_type": "code",
   "execution_count": 38,
   "metadata": {},
   "outputs": [
    {
     "data": {
      "text/html": [
       "<div>\n",
       "<style scoped>\n",
       "    .dataframe tbody tr th:only-of-type {\n",
       "        vertical-align: middle;\n",
       "    }\n",
       "\n",
       "    .dataframe tbody tr th {\n",
       "        vertical-align: top;\n",
       "    }\n",
       "\n",
       "    .dataframe thead th {\n",
       "        text-align: right;\n",
       "    }\n",
       "</style>\n",
       "<table border=\"1\" class=\"dataframe\">\n",
       "  <thead>\n",
       "    <tr style=\"text-align: right;\">\n",
       "      <th></th>\n",
       "      <th>count</th>\n",
       "      <th>mean</th>\n",
       "      <th>std</th>\n",
       "      <th>min</th>\n",
       "      <th>25%</th>\n",
       "      <th>50%</th>\n",
       "      <th>75%</th>\n",
       "      <th>max</th>\n",
       "    </tr>\n",
       "    <tr>\n",
       "      <th>difficulty</th>\n",
       "      <th></th>\n",
       "      <th></th>\n",
       "      <th></th>\n",
       "      <th></th>\n",
       "      <th></th>\n",
       "      <th></th>\n",
       "      <th></th>\n",
       "      <th></th>\n",
       "    </tr>\n",
       "  </thead>\n",
       "  <tbody>\n",
       "    <tr>\n",
       "      <th>easy</th>\n",
       "      <td>300000.0</td>\n",
       "      <td>26.997473</td>\n",
       "      <td>0.105800</td>\n",
       "      <td>16.0</td>\n",
       "      <td>27.0</td>\n",
       "      <td>27.0</td>\n",
       "      <td>27.0</td>\n",
       "      <td>27.0</td>\n",
       "    </tr>\n",
       "    <tr>\n",
       "      <th>extreme</th>\n",
       "      <td>200000.0</td>\n",
       "      <td>53.270225</td>\n",
       "      <td>2.495268</td>\n",
       "      <td>32.0</td>\n",
       "      <td>52.0</td>\n",
       "      <td>54.0</td>\n",
       "      <td>55.0</td>\n",
       "      <td>60.0</td>\n",
       "    </tr>\n",
       "    <tr>\n",
       "      <th>hard</th>\n",
       "      <td>200000.0</td>\n",
       "      <td>48.351830</td>\n",
       "      <td>2.620973</td>\n",
       "      <td>26.0</td>\n",
       "      <td>47.0</td>\n",
       "      <td>49.0</td>\n",
       "      <td>50.0</td>\n",
       "      <td>58.0</td>\n",
       "    </tr>\n",
       "    <tr>\n",
       "      <th>insane</th>\n",
       "      <td>1000000.0</td>\n",
       "      <td>56.359856</td>\n",
       "      <td>1.514768</td>\n",
       "      <td>34.0</td>\n",
       "      <td>56.0</td>\n",
       "      <td>57.0</td>\n",
       "      <td>57.0</td>\n",
       "      <td>61.0</td>\n",
       "    </tr>\n",
       "    <tr>\n",
       "      <th>medium</th>\n",
       "      <td>200000.0</td>\n",
       "      <td>43.196935</td>\n",
       "      <td>2.386254</td>\n",
       "      <td>21.0</td>\n",
       "      <td>42.0</td>\n",
       "      <td>44.0</td>\n",
       "      <td>45.0</td>\n",
       "      <td>46.0</td>\n",
       "    </tr>\n",
       "  </tbody>\n",
       "</table>\n",
       "</div>"
      ],
      "text/plain": [
       "                count       mean       std   min   25%   50%   75%   max\n",
       "difficulty                                                              \n",
       "easy         300000.0  26.997473  0.105800  16.0  27.0  27.0  27.0  27.0\n",
       "extreme      200000.0  53.270225  2.495268  32.0  52.0  54.0  55.0  60.0\n",
       "hard         200000.0  48.351830  2.620973  26.0  47.0  49.0  50.0  58.0\n",
       "insane      1000000.0  56.359856  1.514768  34.0  56.0  57.0  57.0  61.0\n",
       "medium       200000.0  43.196935  2.386254  21.0  42.0  44.0  45.0  46.0"
      ]
     },
     "execution_count": 38,
     "metadata": {},
     "output_type": "execute_result"
    }
   ],
   "source": [
    "our_data[\"missing_cells\"] = our_data.quiz.apply(lambda x: x.count(\".\"))\n",
    "our_data.groupby(\"difficulty\")[\"missing_cells\"].describe()"
   ]
  },
  {
   "cell_type": "code",
   "execution_count": 46,
   "metadata": {},
   "outputs": [
    {
     "name": "stderr",
     "output_type": "stream",
     "text": [
      "100%|██████████| 48766/48766 [00:03<00:00, 12987.58it/s]\n",
      "100%|██████████| 1466/1466 [00:00<00:00, 52432.82it/s]\n",
      "100%|██████████| 49158/49158 [00:00<00:00, 96418.35it/s]\n",
      "100%|██████████| 100000/100000 [00:00<00:00, 158783.37it/s]\n",
      "100%|██████████| 1000000/1000000 [00:09<00:00, 101185.42it/s]\n",
      "100%|██████████| 500000/500000 [00:01<00:00, 432194.75it/s]\n",
      "100%|██████████| 10000/10000 [00:00<00:00, 208279.12it/s]\n",
      "100%|██████████| 375/375 [00:00<00:00, 7580.76it/s]\n",
      "100%|██████████| 2135371/2135371 [02:22<00:00, 14994.13it/s]\n"
     ]
    },
    {
     "data": {
      "text/html": [
       "<div>\n",
       "<style scoped>\n",
       "    .dataframe tbody tr th:only-of-type {\n",
       "        vertical-align: middle;\n",
       "    }\n",
       "\n",
       "    .dataframe tbody tr th {\n",
       "        vertical-align: top;\n",
       "    }\n",
       "\n",
       "    .dataframe thead th {\n",
       "        text-align: right;\n",
       "    }\n",
       "</style>\n",
       "<table border=\"1\" class=\"dataframe\">\n",
       "  <thead>\n",
       "    <tr style=\"text-align: right;\">\n",
       "      <th></th>\n",
       "      <th>quiz</th>\n",
       "      <th>solution</th>\n",
       "    </tr>\n",
       "    <tr>\n",
       "      <th>origin</th>\n",
       "      <th></th>\n",
       "      <th></th>\n",
       "    </tr>\n",
       "  </thead>\n",
       "  <tbody>\n",
       "    <tr>\n",
       "      <th>tdoku_data_17_clue</th>\n",
       "      <td>49158</td>\n",
       "      <td>49158</td>\n",
       "    </tr>\n",
       "    <tr>\n",
       "      <th>tdoku_data_forum_hardest_1106</th>\n",
       "      <td>375</td>\n",
       "      <td>375</td>\n",
       "    </tr>\n",
       "    <tr>\n",
       "      <th>tdoku_data_forum_hardest_1905</th>\n",
       "      <td>2135371</td>\n",
       "      <td>2135371</td>\n",
       "    </tr>\n",
       "    <tr>\n",
       "      <th>tdoku_data_forum_hardest_1905_11+</th>\n",
       "      <td>48766</td>\n",
       "      <td>48766</td>\n",
       "    </tr>\n",
       "    <tr>\n",
       "      <th>tdoku_data_gen_puzzles</th>\n",
       "      <td>763</td>\n",
       "      <td>763</td>\n",
       "    </tr>\n",
       "    <tr>\n",
       "      <th>tdoku_data_kaggle</th>\n",
       "      <td>100000</td>\n",
       "      <td>100000</td>\n",
       "    </tr>\n",
       "    <tr>\n",
       "      <th>tdoku_data_magictour_top1465</th>\n",
       "      <td>1465</td>\n",
       "      <td>1465</td>\n",
       "    </tr>\n",
       "    <tr>\n",
       "      <th>tdoku_data_unbiased</th>\n",
       "      <td>1000000</td>\n",
       "      <td>1000000</td>\n",
       "    </tr>\n",
       "  </tbody>\n",
       "</table>\n",
       "</div>"
      ],
      "text/plain": [
       "                                      quiz  solution\n",
       "origin                                              \n",
       "tdoku_data_17_clue                   49158     49158\n",
       "tdoku_data_forum_hardest_1106          375       375\n",
       "tdoku_data_forum_hardest_1905      2135371   2135371\n",
       "tdoku_data_forum_hardest_1905_11+    48766     48766\n",
       "tdoku_data_gen_puzzles                 763       763\n",
       "tdoku_data_kaggle                   100000    100000\n",
       "tdoku_data_magictour_top1465          1465      1465\n",
       "tdoku_data_unbiased                1000000   1000000"
      ]
     },
     "execution_count": 46,
     "metadata": {},
     "output_type": "execute_result"
    }
   ],
   "source": [
    "dfs = []\n",
    "\n",
    "for path in glob.glob(\"tdoku/data/*\"):\n",
    "    \n",
    "    with open(path, \"r\") as f:\n",
    "    \n",
    "        lines = f.readlines()\n",
    "        lines = [i.replace(\"\\n\", \"\") for i in lines if '#' not in i]\n",
    "        \n",
    "    \n",
    "    solver = Solver()\n",
    "        \n",
    "    solution = []\n",
    "    quiz = []\n",
    "\n",
    "    for line in tqdm.tqdm(lines):\n",
    "        \n",
    "        if solver.Count(line) != 1:\n",
    "            continue\n",
    "        \n",
    "        res = solver.Solve(line)\n",
    "        \n",
    "        if res[0]:\n",
    "            solution.append(res[1])\n",
    "            quiz.append(line)\n",
    "        \n",
    "    if solution:\n",
    "            \n",
    "        df = pd.DataFrame({'quiz': quiz,\n",
    "                        'solution': solution})\n",
    "\n",
    "        name = Path(path).name\n",
    "        origin = f\"tdoku_data_{name[name.find('_')+1:]}\"\n",
    "        \n",
    "        df[\"origin\"] = origin\n",
    "        \n",
    "        dfs.append(df)\n",
    "    \n",
    "tdoku_data = pd.concat(dfs)\n",
    "tdoku_data.groupby(\"origin\").count()"
   ]
  },
  {
   "cell_type": "code",
   "execution_count": 47,
   "metadata": {},
   "outputs": [],
   "source": [
    "all_data = pd.concat([our_data, tdoku_data])\n",
    "all_data.index = np.arange(len(all_data))"
   ]
  },
  {
   "cell_type": "code",
   "execution_count": 53,
   "metadata": {},
   "outputs": [
    {
     "data": {
      "text/plain": [
       "data_type\n",
       "train    0.78464\n",
       "test     0.11728\n",
       "val      0.09808\n",
       "Name: proportion, dtype: float64"
      ]
     },
     "execution_count": 53,
     "metadata": {},
     "output_type": "execute_result"
    }
   ],
   "source": [
    "all_data[\"data_type\"] = \"test\"\n",
    "\n",
    "for origin in all_data.origin.unique():\n",
    "    \n",
    "    if origin == \"our_data\":\n",
    "        \n",
    "        continue\n",
    "    \n",
    "    data = all_data.query(\"origin == @origin\")\n",
    "    \n",
    "    if len(data) < 50000:\n",
    "        continue\n",
    "    \n",
    "    first_80 = int(len(data)*0.8)\n",
    "    till_90 = int(len(data)*0.9)\n",
    "    \n",
    "    all_data.loc[data.index[:first_80],\"data_type\"] = \"train\"\n",
    "    all_data.loc[data.index[first_80:till_90],\"data_type\"] = \"val\"\n",
    "    \n",
    "\n",
    "our_data = all_data.query(\"origin == 'our_data'\")\n",
    "\n",
    "for difficulty in our_data.difficulty.unique():\n",
    "    \n",
    "    data = our_data.query(\"difficulty == @difficulty\")\n",
    "    \n",
    "    first_80 = int(len(data)*0.8)\n",
    "    till_90 = int(len(data)*0.9)\n",
    "    \n",
    "    all_data.loc[data.index[:first_80],\"data_type\"] = \"train\"\n",
    "    all_data.loc[data.index[first_80:till_90],\"data_type\"] = \"val\"\n",
    "    \n",
    "all_data.value_counts(\"data_type\", normalize = True)\n",
    "    \n",
    "    "
   ]
  },
  {
   "cell_type": "code",
   "execution_count": null,
   "metadata": {},
   "outputs": [],
   "source": [
    "all_data.to_feather(\"data/all_data.feather\")"
   ]
  },
  {
   "cell_type": "code",
   "execution_count": 2,
   "metadata": {},
   "outputs": [],
   "source": [
    "our_data = pd.read_feather(\"data/all_data.feather\").query(\"origin == 'our_data'\")\n",
    "our_data.to_feather(\"data/our_data.feather\")"
   ]
  },
  {
   "cell_type": "code",
   "execution_count": 2,
   "metadata": {},
   "outputs": [
    {
     "name": "stderr",
     "output_type": "stream",
     "text": [
      "100%|██████████| 1825000/1825000 [01:23<00:00, 21841.46it/s]\n",
      "100%|██████████| 1825000/1825000 [01:31<00:00, 20047.64it/s]\n"
     ]
    }
   ],
   "source": [
    "old = pd.read_feather(\"datasets/info.feather\").drop(columns=[\"index\",\"input_sha\",\"label_sha\",\"data_type\"])\n",
    "quizzes = np.load(\"datasets/all_inputs.npy\")\n",
    "solutions = np.load(\"datasets/all_labels.npy\")\n",
    "old[\"quiz\"] = [\"\".join(i.flatten().astype(str)) for i in tqdm.tqdm(quizzes)]\n",
    "old[\"solution\"] = [\"\".join(i.flatten().astype(str)) for i in tqdm.tqdm(solutions)]"
   ]
  },
  {
   "cell_type": "code",
   "execution_count": 4,
   "metadata": {},
   "outputs": [
    {
     "name": "stderr",
     "output_type": "stream",
     "text": [
      "100%|██████████| 1825000/1825000 [00:06<00:00, 288185.36it/s]\n"
     ]
    },
    {
     "data": {
      "text/plain": [
       "count    1825000.0\n",
       "mean           1.0\n",
       "std            0.0\n",
       "min            1.0\n",
       "25%            1.0\n",
       "50%            1.0\n",
       "75%            1.0\n",
       "max            1.0\n",
       "Name: solutions, dtype: float64"
      ]
     },
     "execution_count": 4,
     "metadata": {},
     "output_type": "execute_result"
    }
   ],
   "source": [
    "old[\"quiz\"] = old[\"quiz\"].apply(lambda x: x.replace(\"0\",\".\"))\n",
    "\n",
    "solver = Solver()\n",
    "old[\"solutions\"] = [solver.Count(ar) for ar in tqdm.tqdm(old[\"quiz\"])]\n",
    "old[\"solutions\"].describe()"
   ]
  },
  {
   "cell_type": "code",
   "execution_count": 10,
   "metadata": {},
   "outputs": [
    {
     "name": "stderr",
     "output_type": "stream",
     "text": [
      "100%|██████████| 1825000/1825000 [00:07<00:00, 247099.36it/s]\n"
     ]
    },
    {
     "data": {
      "text/plain": [
       "True"
      ]
     },
     "execution_count": 10,
     "metadata": {},
     "output_type": "execute_result"
    }
   ],
   "source": [
    "old[\"checked\"] = [solver.Solve(ar)[1] for ar in tqdm.tqdm(old[\"quiz\"])]\n",
    "(old[\"checked\"] == old.solution).all()"
   ]
  },
  {
   "cell_type": "code",
   "execution_count": 15,
   "metadata": {},
   "outputs": [
    {
     "data": {
      "text/html": [
       "<div>\n",
       "<style scoped>\n",
       "    .dataframe tbody tr th:only-of-type {\n",
       "        vertical-align: middle;\n",
       "    }\n",
       "\n",
       "    .dataframe tbody tr th {\n",
       "        vertical-align: top;\n",
       "    }\n",
       "\n",
       "    .dataframe thead th {\n",
       "        text-align: right;\n",
       "    }\n",
       "</style>\n",
       "<table border=\"1\" class=\"dataframe\">\n",
       "  <thead>\n",
       "    <tr style=\"text-align: right;\">\n",
       "      <th></th>\n",
       "      <th>quiz</th>\n",
       "      <th>solution</th>\n",
       "    </tr>\n",
       "  </thead>\n",
       "  <tbody>\n",
       "    <tr>\n",
       "      <th>count</th>\n",
       "      <td>1825000</td>\n",
       "      <td>1825000</td>\n",
       "    </tr>\n",
       "    <tr>\n",
       "      <th>unique</th>\n",
       "      <td>1825000</td>\n",
       "      <td>744265</td>\n",
       "    </tr>\n",
       "    <tr>\n",
       "      <th>top</th>\n",
       "      <td>.7219548..4.7.21.99...387268.7321.455.498731.2...</td>\n",
       "      <td>4839157261596724837263481599152673486728349153...</td>\n",
       "    </tr>\n",
       "    <tr>\n",
       "      <th>freq</th>\n",
       "      <td>1</td>\n",
       "      <td>13</td>\n",
       "    </tr>\n",
       "  </tbody>\n",
       "</table>\n",
       "</div>"
      ],
      "text/plain": [
       "                                                     quiz  \\\n",
       "count                                             1825000   \n",
       "unique                                            1825000   \n",
       "top     .7219548..4.7.21.99...387268.7321.455.498731.2...   \n",
       "freq                                                    1   \n",
       "\n",
       "                                                 solution  \n",
       "count                                             1825000  \n",
       "unique                                             744265  \n",
       "top     4839157261596724837263481599152673486728349153...  \n",
       "freq                                                   13  "
      ]
     },
     "execution_count": 15,
     "metadata": {},
     "output_type": "execute_result"
    }
   ],
   "source": [
    "old[[\"quiz\",\"solution\"]].describe()"
   ]
  },
  {
   "cell_type": "code",
   "execution_count": 16,
   "metadata": {},
   "outputs": [
    {
     "data": {
      "text/plain": [
       "data_type\n",
       "train    0.8\n",
       "val      0.1\n",
       "test     0.1\n",
       "Name: proportion, dtype: float64"
      ]
     },
     "execution_count": 16,
     "metadata": {},
     "output_type": "execute_result"
    }
   ],
   "source": [
    "old[\"data_type\"] = \"test\"\n",
    "\n",
    "for diff in old.difficulty.unique():\n",
    "    \n",
    "    data = old.query(\"difficulty == @diff\").sort_values(\"solution\")\n",
    "    \n",
    "    first_80 = int(len(data)*0.8)\n",
    "    till_90 = int(len(data)*0.9)\n",
    "    \n",
    "    old.loc[data.index[:first_80],\"data_type\"] = \"train\"\n",
    "    old.loc[data.index[first_80:till_90],\"data_type\"] = \"val\"\n",
    "\n",
    "old.data_type.value_counts(normalize=True)"
   ]
  },
  {
   "cell_type": "code",
   "execution_count": 17,
   "metadata": {},
   "outputs": [],
   "source": [
    "old[\"origin\"] = \"old_data\"\n",
    "old.to_feather(\"data/old_data.feather\")"
   ]
  },
  {
   "cell_type": "code",
   "execution_count": 3,
   "metadata": {},
   "outputs": [],
   "source": [
    "our_data = pd.read_feather(\"data/our_data.feather\")\n",
    "old_data = pd.read_feather(\"data/old_data.feather\")\n",
    "old_diffs = old_data.value_counts(\"difficulty\")\n",
    "our_diffs = our_data.value_counts(\"difficulty\")"
   ]
  },
  {
   "cell_type": "code",
   "execution_count": 7,
   "metadata": {},
   "outputs": [
    {
     "data": {
      "text/plain": [
       "<zip at 0x7fd6b2bfd6c0>"
      ]
     },
     "execution_count": 7,
     "metadata": {},
     "output_type": "execute_result"
    }
   ],
   "source": [
    "same = np.minimum(our_diffs, old_diffs)\n",
    "same.items()"
   ]
  },
  {
   "cell_type": "code",
   "execution_count": 8,
   "metadata": {},
   "outputs": [
    {
     "data": {
      "text/plain": [
       "difficulty\n",
       "insane     500000\n",
       "easy       250000\n",
       "extreme    200000\n",
       "hard       200000\n",
       "medium     200000\n",
       "Name: count, dtype: int64"
      ]
     },
     "execution_count": 8,
     "metadata": {},
     "output_type": "execute_result"
    }
   ],
   "source": [
    "same = np.minimum(our_diffs, old_diffs)\n",
    "\n",
    "def make_same(df):\n",
    "    \n",
    "    keep = []\n",
    "    \n",
    "    for d,v in same.items():\n",
    "        keep.append(df.query(\"difficulty == @d\").sample(n = v).copy())\n",
    "\n",
    "    new_df = pd.concat(keep)\n",
    "    new_df.index = np.arange(len(new_df))\n",
    "    return new_df\n",
    "\n",
    "comp_our_data = make_same(our_data)\n",
    "comp_old_data = make_same(old_data)\n",
    "comp_old_data.value_counts(\"difficulty\")"
   ]
  },
  {
   "cell_type": "code",
   "execution_count": 9,
   "metadata": {},
   "outputs": [
    {
     "data": {
      "text/plain": [
       "data_type\n",
       "train    0.799779\n",
       "val      0.100207\n",
       "test     0.100014\n",
       "Name: proportion, dtype: float64"
      ]
     },
     "execution_count": 9,
     "metadata": {},
     "output_type": "execute_result"
    }
   ],
   "source": [
    "comp_old_data.value_counts(\"data_type\", normalize= True)"
   ]
  },
  {
   "cell_type": "code",
   "execution_count": 10,
   "metadata": {},
   "outputs": [
    {
     "data": {
      "text/plain": [
       "data_type\n",
       "train    0.799899\n",
       "test     0.100077\n",
       "val      0.100024\n",
       "Name: proportion, dtype: float64"
      ]
     },
     "execution_count": 10,
     "metadata": {},
     "output_type": "execute_result"
    }
   ],
   "source": [
    "comp_our_data.value_counts(\"data_type\", normalize= True)"
   ]
  },
  {
   "cell_type": "code",
   "execution_count": 12,
   "metadata": {},
   "outputs": [],
   "source": [
    "comp_our_data.to_feather(\"data/comp_our_data.feather\")\n",
    "comp_old_data.to_feather(\"data/comp_old_data.feather\")"
   ]
  },
  {
   "cell_type": "code",
   "execution_count": 6,
   "metadata": {},
   "outputs": [],
   "source": [
    "our_data = pd.read_feather(\"data/our_data.feather\")\n",
    "our_data.query(\"difficulty == 'easy'\").reset_index(drop=True).to_feather(\"data/easy_only.feather\")"
   ]
  },
  {
   "cell_type": "code",
   "execution_count": null,
   "metadata": {},
   "outputs": [],
   "source": []
  },
  {
   "cell_type": "code",
   "execution_count": null,
   "metadata": {},
   "outputs": [],
   "source": []
  }
 ],
 "metadata": {
  "kernelspec": {
   "display_name": "Python 3.11.4 ('deep_sudoku')",
   "language": "python",
   "name": "python3"
  },
  "language_info": {
   "codemirror_mode": {
    "name": "ipython",
    "version": 3
   },
   "file_extension": ".py",
   "mimetype": "text/x-python",
   "name": "python",
   "nbconvert_exporter": "python",
   "pygments_lexer": "ipython3",
   "version": "3.11.0"
  },
  "orig_nbformat": 4,
  "vscode": {
   "interpreter": {
    "hash": "0b799e09937904f8d1117c2acf05ec2595661b94bca3f4d57ef26de709bee9aa"
   }
  }
 },
 "nbformat": 4,
 "nbformat_minor": 2
}
