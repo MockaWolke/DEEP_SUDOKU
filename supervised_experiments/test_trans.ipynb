{
 "cells": [
  {
   "cell_type": "code",
   "execution_count": 2,
   "metadata": {},
   "outputs": [],
   "source": [
    "from load_data import get_data, get_tf_dataset\n",
    "from deepsudoku.utils import visualize_sudoku\n",
    "import tensorflow as tf\n",
    "from deepsudoku.utils import visualize_sudoku\n",
    "import numpy as np\n",
    "import tensorflow as tf\n",
    "import tensorflow as tf\n",
    "import numpy as np\n",
    "from metrics_and_wrapper import  SudukoWrapper\n",
    "from architectures import *\n",
    "from load_data import get_data, get_tf_dataset\n",
    "\n",
    "\n",
    "train_df = get_data(\"train\", \"realistic_easy_data\").sample(frac=1)\n"
   ]
  },
  {
   "cell_type": "code",
   "execution_count": 11,
   "metadata": {},
   "outputs": [],
   "source": [
    "back_bone = same_transformer()\n",
    "model = SudukoWrapper(back_bone)\n",
    "CROSS = tf.keras.losses.SparseCategoricalCrossentropy()\n",
    "\n",
    "model.compile(\"Adam\", CROSS, )\n"
   ]
  },
  {
   "cell_type": "code",
   "execution_count": 6,
   "metadata": {},
   "outputs": [],
   "source": [
    "train_df = get_data(\"train\", \"comp_our_data\").sample(frac=1)\n",
    "train_ds = get_tf_dataset(train_df.iloc[:1000])\n",
    "train_ds = train_ds.batch(32)"
   ]
  },
  {
   "cell_type": "code",
   "execution_count": 12,
   "metadata": {},
   "outputs": [],
   "source": [
    "for x,y in train_ds:\n",
    "    break"
   ]
  },
  {
   "cell_type": "code",
   "execution_count": 32,
   "metadata": {},
   "outputs": [],
   "source": [
    "before = model.trainable_weights[-2].numpy()\n",
    "model.train_step((x,y))\n",
    "after = model.trainable_weights[-2].numpy()"
   ]
  },
  {
   "cell_type": "code",
   "execution_count": 33,
   "metadata": {},
   "outputs": [
    {
     "data": {
      "text/plain": [
       "array([[ 2.92658806e-05,  2.29179859e-05, -4.99784946e-05, ...,\n",
       "         7.03334808e-06,  8.10995698e-06, -2.86847353e-05],\n",
       "       [ 5.53950667e-05,  9.31918621e-05, -1.25139952e-04, ...,\n",
       "         2.45571136e-05,  3.06367874e-05, -9.63658094e-05],\n",
       "       [-1.05705112e-04, -2.02417374e-04,  2.79605389e-04, ...,\n",
       "        -1.19518489e-04,  6.41494989e-06,  2.54526734e-04],\n",
       "       ...,\n",
       "       [-5.21987677e-05, -3.23802233e-05,  6.00218773e-05, ...,\n",
       "         9.91229899e-06, -3.24100256e-05,  2.23778188e-05],\n",
       "       [ 2.27391720e-05,  3.67909670e-05, -5.67110255e-05, ...,\n",
       "         3.52039933e-05, -1.49160624e-05, -6.09206036e-05],\n",
       "       [ 5.45680523e-05,  8.51349905e-05, -1.41948462e-04, ...,\n",
       "         4.71472740e-05, -5.51342964e-07, -1.17756426e-04]], dtype=float32)"
      ]
     },
     "execution_count": 33,
     "metadata": {},
     "output_type": "execute_result"
    }
   ],
   "source": [
    "before - after"
   ]
  },
  {
   "cell_type": "code",
   "execution_count": 18,
   "metadata": {},
   "outputs": [],
   "source": []
  },
  {
   "cell_type": "code",
   "execution_count": 20,
   "metadata": {},
   "outputs": [
    {
     "data": {
      "text/plain": [
       "<tf.Tensor: shape=(9, 9), dtype=int64, numpy=\n",
       "array([[8, 7, 8, 4, 5, 1, 0, 3, 2],\n",
       "       [5, 2, 0, 6, 3, 8, 4, 7, 1],\n",
       "       [3, 1, 4, 0, 2, 7, 8, 5, 8],\n",
       "       [1, 4, 7, 8, 6, 2, 5, 0, 3],\n",
       "       [0, 8, 3, 1, 4, 5, 2, 6, 7],\n",
       "       [2, 5, 5, 3, 7, 0, 1, 6, 8],\n",
       "       [8, 5, 1, 7, 0, 3, 6, 2, 4],\n",
       "       [7, 0, 6, 2, 1, 3, 1, 8, 5],\n",
       "       [4, 3, 2, 5, 1, 6, 7, 8, 0]])>"
      ]
     },
     "execution_count": 20,
     "metadata": {},
     "output_type": "execute_result"
    }
   ],
   "source": [
    "pred = tf.argmax( model(x[None,:]), -1)[0]\n",
    "pred"
   ]
  }
 ],
 "metadata": {
  "kernelspec": {
   "display_name": "sudoku",
   "language": "python",
   "name": "python3"
  },
  "language_info": {
   "codemirror_mode": {
    "name": "ipython",
    "version": 3
   },
   "file_extension": ".py",
   "mimetype": "text/x-python",
   "name": "python",
   "nbconvert_exporter": "python",
   "pygments_lexer": "ipython3",
   "version": "3.11.0"
  },
  "orig_nbformat": 4
 },
 "nbformat": 4,
 "nbformat_minor": 2
}
