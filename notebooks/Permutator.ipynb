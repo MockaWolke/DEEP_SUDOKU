{
 "cells": [
  {
   "cell_type": "code",
   "execution_count": 1,
   "metadata": {},
   "outputs": [],
   "source": [
    "import numpy as np\n",
    "from functools import reduce"
   ]
  },
  {
   "cell_type": "code",
   "execution_count": 12,
   "metadata": {},
   "outputs": [],
   "source": [
    "class RowPermutation:\n",
    "    def __init__(self, from_, to_):\n",
    "        self.from_ = from_\n",
    "        self.to_ = to_\n",
    "    \n",
    "    def __call__(self, matrix):\n",
    "        r = np.copy(matrix)\n",
    "        r[[self.to_,self.from_]] = r[[self.from_,self.to_]]\n",
    "        #print(\"RowPermutation(\", self.from_,\",\",self.to_,\"):\", r)\n",
    "        return r\n",
    "\n",
    "\n",
    "\"\"\" class ColumnPermutation:\n",
    "    def __init__(self, from_, to_):\n",
    "        self.from_ = from_\n",
    "        self.to_ = to_\n",
    "    \n",
    "    def __call__(self, matrix):\n",
    "        matrix[:,[self.to_,self.from_]] = matrix[:,[self.from_,self.to_]]\n",
    "        return matrix \"\"\"\n",
    "\n",
    "\n",
    "class TranposePermutation:\n",
    "    def __init__(self):\n",
    "        pass\n",
    "\n",
    "    def __call__(self, matrix):\n",
    "        #print(\"TransposePermutation(\", \"):\", matrix.T)\n",
    "        return matrix.T\n",
    "\n",
    "\n",
    "class MirrorPermutation:\n",
    "    def __init__(self, axis):\n",
    "        self.axis = axis\n",
    "\n",
    "    def __call__(self, matrix):\n",
    "        #print(\"RotateClockwisePermutation(\", self.nturns, \"):\", np.rot90(matrix, k=-self.nturns))\n",
    "        return np.flip(matrix, axis=self.axis)\n",
    "\n",
    "\n",
    "class SwapDigitsPermutation:\n",
    "    def __init__(self, dig1, dig2):\n",
    "        self.dig1 = dig1\n",
    "        self.dig2 = dig2\n",
    "    \n",
    "    def __call__(self, matrix):\n",
    "        swapper = np.where(matrix==self.dig1, self.dig2, self.dig1)\n",
    "        r = np.where((matrix==self.dig1) | (matrix==self.dig2), swapper, matrix)\n",
    "        #print(\"SwapDigitsPermutation(\", self.dig1,\",\",self.dig2,\"):\", r)\n",
    "        return r\n",
    "\n",
    "\n",
    "\n"
   ]
  },
  {
   "cell_type": "code",
   "execution_count": 13,
   "metadata": {},
   "outputs": [],
   "source": [
    "compose = lambda F: reduce(lambda f, g: lambda x: g(f(x)), F)"
   ]
  },
  {
   "cell_type": "code",
   "execution_count": 15,
   "metadata": {},
   "outputs": [
    {
     "name": "stdout",
     "output_type": "stream",
     "text": [
      "[[ 0  1  2  3]\n",
      " [ 4  5  6  7]\n",
      " [ 8  9 10 11]\n",
      " [12 13 14 15]]\n",
      "[[12  8  0  6]\n",
      " [14 10  2  4]\n",
      " [13  9  1  5]\n",
      " [15 11  3  7]]\n",
      "[[ 0  1  2  3]\n",
      " [ 4  5  6  7]\n",
      " [ 8  9 10 11]\n",
      " [12 13 14 15]]\n"
     ]
    }
   ],
   "source": [
    "a = np.arange(16).reshape((4,4))\n",
    "print(a)\n",
    "perms = [\n",
    "    RowPermutation(0,1),\n",
    "    TranposePermutation(),\n",
    "    RowPermutation(1,2),\n",
    "    MirrorPermutation(1),\n",
    "    SwapDigitsPermutation(4,6)\n",
    "]\n",
    "r = compose(perms)(a)\n",
    "print(r)\n",
    "print(compose(reversed(perms))(r))\n",
    "\n",
    "\n"
   ]
  },
  {
   "cell_type": "code",
   "execution_count": null,
   "metadata": {},
   "outputs": [],
   "source": []
  }
 ],
 "metadata": {
  "kernelspec": {
   "display_name": "drl",
   "language": "python",
   "name": "python3"
  },
  "language_info": {
   "codemirror_mode": {
    "name": "ipython",
    "version": 3
   },
   "file_extension": ".py",
   "mimetype": "text/x-python",
   "name": "python",
   "nbconvert_exporter": "python",
   "pygments_lexer": "ipython3",
   "version": "3.11.3"
  },
  "orig_nbformat": 4
 },
 "nbformat": 4,
 "nbformat_minor": 2
}
