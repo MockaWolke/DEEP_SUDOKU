{
 "cells": [
  {
   "cell_type": "code",
   "execution_count": 1,
   "metadata": {},
   "outputs": [],
   "source": [
    "import numpy as np\n",
    "from functools import reduce"
   ]
  },
  {
   "cell_type": "code",
   "execution_count": 2,
   "metadata": {},
   "outputs": [],
   "source": [
    "class RowPermutation:\n",
    "    def __init__(self, from_, to_):\n",
    "        self.from_ = from_\n",
    "        self.to_ = to_\n",
    "    \n",
    "    def __call__(self, matrix):\n",
    "        r = np.copy(matrix)\n",
    "        r[[self.to_,self.from_]] = r[[self.from_,self.to_]]\n",
    "        #print(\"RowPermutation(\", self.from_,\",\",self.to_,\"):\", r)\n",
    "        return r\n",
    "\n",
    "\n",
    "class TransposePermutation:\n",
    "    def __init__(self):\n",
    "        pass\n",
    "\n",
    "    def __call__(self, matrix):\n",
    "        #print(\"TransposePermutation(\", \"):\", matrix.T)\n",
    "        return matrix.T\n",
    "\n",
    "\n",
    "class MirrorPermutation:\n",
    "    def __init__(self, axis):\n",
    "        self.axis = axis\n",
    "\n",
    "    def __call__(self, matrix):\n",
    "        #print(\"RotateClockwisePermutation(\", self.nturns, \"):\", np.rot90(matrix, k=-self.nturns))\n",
    "        return np.flip(matrix, axis=self.axis)\n",
    "\n",
    "\n",
    "class SwapDigitsPermutation:\n",
    "    def __init__(self, dig1, dig2):\n",
    "        self.dig1 = dig1 + 1\n",
    "        self.dig2 = dig2 + 1\n",
    "    \n",
    "    def __call__(self, matrix):\n",
    "        swapper = np.where(matrix==self.dig1, self.dig2, self.dig1)\n",
    "        r = np.where((matrix==self.dig1) | (matrix==self.dig2), swapper, matrix)\n",
    "        #print(\"SwapDigitsPermutation(\", self.dig1,\",\",self.dig2,\"):\", r)\n",
    "        return r\n",
    "\n",
    "\n",
    "\n"
   ]
  },
  {
   "cell_type": "code",
   "execution_count": 3,
   "metadata": {},
   "outputs": [],
   "source": [
    "compose = lambda F: reduce(lambda f, g: lambda x: g(f(x)), F)"
   ]
  },
  {
   "cell_type": "code",
   "execution_count": 4,
   "metadata": {},
   "outputs": [],
   "source": [
    "def random_permutation(msize):\n",
    "    inds = np.random.choice(np.arange(msize), size=2, replace=False)\n",
    "    return np.random.choice([\n",
    "        RowPermutation(inds[0],inds[1]),\n",
    "        TransposePermutation(),\n",
    "        MirrorPermutation(np.random.choice(np.array([0,1]))),\n",
    "        SwapDigitsPermutation(inds[0],inds[1])\n",
    "    ], p=[0.4,0.1,0.1,0.4]) \n",
    "\n",
    "def create_permutations(matrix, count):\n",
    "    assert matrix.shape[0] == matrix.shape[1], \"matrix not square\"\n",
    "    desired_perm_length = 2 + np.emath.logn(matrix.shape[0]*2, count).astype(int)\n",
    "\n",
    "    permutations = {}\n",
    "    permutations[tuple(map(tuple, matrix))] = [TransposePermutation(), TransposePermutation()]\n",
    "    \n",
    "    while len(permutations) < count:\n",
    "        rp = [random_permutation(matrix.shape[0]) for i in range(desired_perm_length)]\n",
    "        pm = tuple(map(tuple, compose(rp)(matrix)))\n",
    "        permutations[pm] = rp\n",
    "\n",
    "    return permutations"
   ]
  },
  {
   "cell_type": "code",
   "execution_count": 5,
   "metadata": {},
   "outputs": [],
   "source": [
    "def preprocessing(observation):\n",
    "    return tf.one_hot(observation, 10, axis=-1)"
   ]
  },
  {
   "cell_type": "code",
   "execution_count": 10,
   "metadata": {},
   "outputs": [],
   "source": [
    "def majority_vote(pi, obs, nvoters):\n",
    "    \"\"\"Perform majority vote\n",
    "\n",
    "    Keyword arguments:\n",
    "    pi -- policy\n",
    "    obs -- observation (a 2d numpy array representing the sudoku)\n",
    "    nvoters -- number of voters for the majority vote\n",
    "\n",
    "    \"\"\"\n",
    "    votes = {}\n",
    "    perms = create_permutations(obs, nvoters)\n",
    "    for perm, perm_function in perms.items():\n",
    "        obs_ = np.array(perm) #a 2d numpy array representing the sudoku, with elements eg. between 0 and 9\n",
    "        \n",
    "        # gather discrete action act from policy\n",
    "        qs = pi(tf.expand_dims(preprocessing(np.array(perm)), 0))\n",
    "        act = np.argmax(qs)\n",
    "\n",
    "        # unravel discrete action and apply to an empty board\n",
    "        empty_board = np.zeros_like(obs_)\n",
    "        y,x,n = np.unravel_index(act,(9,9,9))\n",
    "        empty_board[y,x] = n+1\n",
    "\n",
    "        # reverse transform on the empty board\n",
    "        rev = compose(reversed(perm_function))(empty_board)\n",
    "\n",
    "        # find only non-zero entry in rev, that is the actual action\n",
    "        nzind_ = next(zip(*np.nonzero(rev)))\n",
    "        if nzind_ + (rev[nzind_]-1,) not in votes:\n",
    "            votes[nzind_ + (rev[nzind_]-1,)] = 1\n",
    "        else:\n",
    "            votes[nzind_ + (rev[nzind_]-1,)] += 1\n",
    "    \n",
    "    # find majority vote\n",
    "    return max(votes, key=votes.get)"
   ]
  },
  {
   "cell_type": "code",
   "execution_count": 7,
   "metadata": {},
   "outputs": [
    {
     "name": "stderr",
     "output_type": "stream",
     "text": [
      "2023-08-31 17:44:02.687052: I tensorflow/tsl/cuda/cudart_stub.cc:28] Could not find cuda drivers on your machine, GPU will not be used.\n",
      "2023-08-31 17:44:02.721507: I tensorflow/tsl/cuda/cudart_stub.cc:28] Could not find cuda drivers on your machine, GPU will not be used.\n",
      "2023-08-31 17:44:02.722491: I tensorflow/core/platform/cpu_feature_guard.cc:182] This TensorFlow binary is optimized to use available CPU instructions in performance-critical operations.\n",
      "To enable the following instructions: AVX2 FMA, in other operations, rebuild TensorFlow with the appropriate compiler flags.\n",
      "2023-08-31 17:44:03.479652: W tensorflow/compiler/tf2tensorrt/utils/py_utils.cc:38] TF-TRT Warning: Could not find TensorRT\n"
     ]
    },
    {
     "name": "stdout",
     "output_type": "stream",
     "text": [
      "Sudoku Environment avaible at gymnasium as 'Sudoku-v0'.\n"
     ]
    }
   ],
   "source": [
    "from deepsudoku import REPO_PATH, DIFFICULTIES\n",
    "import os\n",
    "os.chdir(REPO_PATH)\n",
    "\n",
    "import tensorflow as tf\n",
    "import numpy as np\n",
    "from deepsudoku.reinforcement_learning.ppo import *\n",
    "\n",
    "import gymnasium as gym\n",
    "from deepsudoku.verify_sudoku import *"
   ]
  },
  {
   "cell_type": "code",
   "execution_count": 8,
   "metadata": {},
   "outputs": [
    {
     "name": "stdout",
     "output_type": "stream",
     "text": [
      "WARNING:tensorflow:No training configuration found in save file, so the model was *not* compiled. Compile it manually.\n"
     ]
    },
    {
     "data": {
      "image/png": "[encoded data removed]",
      "text/plain": [
       "<Figure size 600x600 with 1 Axes>"
      ]
     },
     "metadata": {},
     "output_type": "display_data"
    }
   ],
   "source": [
    "pi = tf.keras.models.load_model('notebooks/ppo_tests/some_model')\n",
    "test_env = gym.make('Sudoku-x0', render_mode='human', size=3, missing_digits=5)\n",
    "obs, inf = test_env.reset()\n",
    "test_env.render()"
   ]
  },
  {
   "cell_type": "code",
   "execution_count": 12,
   "metadata": {},
   "outputs": [
    {
     "data": {
      "text/plain": [
       "(0, 8, 3)"
      ]
     },
     "execution_count": 12,
     "metadata": {},
     "output_type": "execute_result"
    }
   ],
   "source": [
    "majority_vote(pi, obs, 1000)"
   ]
  },
  {
   "cell_type": "code",
   "execution_count": null,
   "metadata": {},
   "outputs": [],
   "source": []
  }
 ],
 "metadata": {
  "kernelspec": {
   "display_name": "drl",
   "language": "python",
   "name": "python3"
  },
  "language_info": {
   "codemirror_mode": {
    "name": "ipython",
    "version": 3
   },
   "file_extension": ".py",
   "mimetype": "text/x-python",
   "name": "python",
   "nbconvert_exporter": "python",
   "pygments_lexer": "ipython3",
   "version": "3.11.3"
  },
  "orig_nbformat": 4
 },
 "nbformat": 4,
 "nbformat_minor": 2
}
