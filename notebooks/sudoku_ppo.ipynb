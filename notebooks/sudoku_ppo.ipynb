{
 "cells": [
  {
   "cell_type": "code",
   "execution_count": 1,
   "metadata": {},
   "outputs": [
    {
     "name": "stderr",
     "output_type": "stream",
     "text": [
      "2023-08-21 13:08:32.883146: I tensorflow/core/platform/cpu_feature_guard.cc:182] This TensorFlow binary is optimized to use available CPU instructions in performance-critical operations.\n",
      "To enable the following instructions: SSE4.1 SSE4.2 AVX AVX2 FMA, in other operations, rebuild TensorFlow with the appropriate compiler flags.\n"
     ]
    },
    {
     "name": "stdout",
     "output_type": "stream",
     "text": [
      "Sudoku Environment avaible at gymnasium as 'Sudoku-v0'.\n"
     ]
    }
   ],
   "source": [
    "from deepsudoku import REPO_PATH, DIFFICULTIES\n",
    "import os\n",
    "os.chdir(REPO_PATH)\n",
    "\n",
    "import tensorflow as tf\n",
    "import numpy as np\n",
    "from deepsudoku.reinforcement_learning.ppo import *"
   ]
  },
  {
   "cell_type": "code",
   "execution_count": 2,
   "metadata": {},
   "outputs": [],
   "source": [
    "envs = PPO_MultiDiscrete_Environment_Wrapper('Sudoku-v0', 5)\n",
    "\n",
    "sudoku_input_shape = (9,9)"
   ]
  },
  {
   "cell_type": "code",
   "execution_count": 3,
   "metadata": {},
   "outputs": [],
   "source": [
    "# Create models\n",
    "\n",
    "# Implementation Detail 2: Orthogonal Initialization of hidden weights and constant initialization of biases and output weights\n",
    "# Biases seem to be 0 by default in Keras\n",
    "hidden_ortho_init = lambda: tf.keras.initializers.Orthogonal(gain=np.sqrt(2))\n",
    "pol_out_ortho_init = lambda: tf.keras.initializers.Orthogonal(gain=0.01)\n",
    "val_out_ortho_init = lambda: tf.keras.initializers.Orthogonal(gain=1)\n",
    "\n",
    "def create_policy_model():\n",
    "    inputs = tf.keras.Input(shape=sudoku_input_shape)\n",
    "    x = tf.keras.layers.Flatten()(inputs)\n",
    "    x = tf.keras.layers.Dense(128, activation=\"tanh\", kernel_initializer=hidden_ortho_init())(x)\n",
    "    x = tf.keras.layers.Dense(128, activation=\"tanh\", kernel_initializer=hidden_ortho_init())(x)\n",
    "    x = [tf.keras.layers.Dense(9, activation=\"log_softmax\", kernel_initializer=pol_out_ortho_init())(x) for i in range(3)]\n",
    "    x = tf.keras.layers.Concatenate()(x)\n",
    "    outputs = tf.keras.layers.Reshape((3,9))(x)\n",
    "    model = tf.keras.Model(inputs=inputs, outputs=outputs, name=\"pi\")\n",
    "    return model\n",
    "\n",
    "def create_value_function_model():\n",
    "    inputs = tf.keras.Input(shape=sudoku_input_shape)\n",
    "    x = tf.keras.layers.Flatten()(inputs)\n",
    "    x = tf.keras.layers.Dense(32, activation=\"relu\", kernel_initializer=hidden_ortho_init())(x)\n",
    "    #x = tf.keras.layers.Dense(32, activation=\"relu\", kernel_initializer=hidden_ortho_init())(x)\n",
    "    outputs = tf.keras.layers.Dense(1, activation=\"linear\", kernel_initializer=val_out_ortho_init())(x)\n",
    "    model = tf.keras.Model(inputs=inputs, outputs=outputs, name=\"V\")\n",
    "    return model\n"
   ]
  },
  {
   "cell_type": "code",
   "execution_count": 4,
   "metadata": {},
   "outputs": [
    {
     "name": "stderr",
     "output_type": "stream",
     "text": [
      "2023-08-21 13:08:34.939552: I tensorflow/core/common_runtime/process_util.cc:146] Creating new thread pool with default inter op setting: 2. Tune using inter_op_parallelism_threads for best performance.\n"
     ]
    },
    {
     "name": "stdout",
     "output_type": "stream",
     "text": [
      "epoch:  0  ; KL:  0  ; LR:  0.005\n",
      "Collection\n",
      "[5 2 8]\n",
      "(250, 3, 9)\n",
      "tf.Tensor(\n",
      "[[-2.2057657 -2.2072337 -2.188837  -2.1976442 -2.19536   -2.1888216\n",
      "  -2.1902127 -2.1956084 -2.2057595]\n",
      " [-2.1906242 -2.2053595 -2.2000947 -2.1983674 -2.1998959 -2.194398\n",
      "  -2.1856806 -2.2003865 -2.2003577]\n",
      " [-2.2032664 -2.2063677 -2.1834867 -2.2055693 -2.1931129 -2.20138\n",
      "  -2.1967013 -2.193201  -2.1921623]], shape=(3, 9), dtype=float32)\n"
     ]
    },
    {
     "name": "stderr",
     "output_type": "stream",
     "text": [
      "2023-08-21 13:08:35.331427: W tensorflow/core/framework/op_kernel.cc:1830] OP_REQUIRES failed at gather_nd_op.cc:47 : INVALID_ARGUMENT: index innermost dimension length must be <= params rank; saw: 4 vs. 3\n"
     ]
    },
    {
     "ename": "InvalidArgumentError",
     "evalue": "{{function_node __wrapped__GatherNd_device_/job:localhost/replica:0/task:0/device:CPU:0}} index innermost dimension length must be <= params rank; saw: 4 vs. 3 [Op:GatherNd]",
     "output_type": "error",
     "traceback": [
      "\u001b[0;31m---------------------------------------------------------------------------\u001b[0m",
      "\u001b[0;31mInvalidArgumentError\u001b[0m                      Traceback (most recent call last)",
      "Cell \u001b[0;32mIn[4], line 1\u001b[0m\n\u001b[0;32m----> 1\u001b[0m pi, V \u001b[39m=\u001b[39m PPO(envs, create_policy_model(), create_value_function_model(), TRAIN_EPOCHS\u001b[39m=\u001b[39;49m\u001b[39m4\u001b[39;49m)\n",
      "File \u001b[0;32m~/Desktop/uni/Deep Learning/DEEP_SUDOKU/deepsudoku/reinforcement_learning/ppo.py:119\u001b[0m, in \u001b[0;36mPPO\u001b[0;34m(env, pi, V, STEPS_PER_TRAJECTORY, GAMMA, LAMBDA, CLIP_RATIO, MAX_GRAD_NORM, TRAIN_EPOCHS, NUM_UPDATE_EPOCHS, MINIBATCH_SIZE, LEARNING_RATE_START, LEARNING_RATE_DECAY_PER_EPOCH)\u001b[0m\n\u001b[1;32m    117\u001b[0m \u001b[39mprint\u001b[39m(pi(D[\u001b[39m\"\u001b[39m\u001b[39mobservations\u001b[39m\u001b[39m\"\u001b[39m])\u001b[39m.\u001b[39mshape)\n\u001b[1;32m    118\u001b[0m \u001b[39mprint\u001b[39m(pi(D[\u001b[39m\"\u001b[39m\u001b[39mobservations\u001b[39m\u001b[39m\"\u001b[39m])[\u001b[39m0\u001b[39m])\n\u001b[0;32m--> 119\u001b[0m old_logits \u001b[39m=\u001b[39m tf\u001b[39m.\u001b[39;49mgather_nd(pi(D[\u001b[39m\"\u001b[39;49m\u001b[39mobservations\u001b[39;49m\u001b[39m\"\u001b[39;49m]), D[\u001b[39m\"\u001b[39;49m\u001b[39mactions\u001b[39;49m\u001b[39m\"\u001b[39;49m], batch_dims\u001b[39m=\u001b[39;49m\u001b[39m1\u001b[39;49m)\n\u001b[1;32m    121\u001b[0m \u001b[39mprint\u001b[39m(\u001b[39m\"\u001b[39m\u001b[39mTapework\u001b[39m\u001b[39m\"\u001b[39m)\n\u001b[1;32m    123\u001b[0m \u001b[39m# We minibatch for increasing the efficiency of the gradient ascent (PPO-implementation details nr. 6)\u001b[39;00m\n",
      "File \u001b[0;32m~/miniconda3/envs/drl/lib/python3.11/site-packages/tensorflow/python/util/traceback_utils.py:153\u001b[0m, in \u001b[0;36mfilter_traceback.<locals>.error_handler\u001b[0;34m(*args, **kwargs)\u001b[0m\n\u001b[1;32m    151\u001b[0m \u001b[39mexcept\u001b[39;00m \u001b[39mException\u001b[39;00m \u001b[39mas\u001b[39;00m e:\n\u001b[1;32m    152\u001b[0m   filtered_tb \u001b[39m=\u001b[39m _process_traceback_frames(e\u001b[39m.\u001b[39m__traceback__)\n\u001b[0;32m--> 153\u001b[0m   \u001b[39mraise\u001b[39;00m e\u001b[39m.\u001b[39mwith_traceback(filtered_tb) \u001b[39mfrom\u001b[39;00m \u001b[39mNone\u001b[39;00m\n\u001b[1;32m    154\u001b[0m \u001b[39mfinally\u001b[39;00m:\n\u001b[1;32m    155\u001b[0m   \u001b[39mdel\u001b[39;00m filtered_tb\n",
      "File \u001b[0;32m~/miniconda3/envs/drl/lib/python3.11/site-packages/tensorflow/python/framework/ops.py:7262\u001b[0m, in \u001b[0;36mraise_from_not_ok_status\u001b[0;34m(e, name)\u001b[0m\n\u001b[1;32m   7260\u001b[0m \u001b[39mdef\u001b[39;00m \u001b[39mraise_from_not_ok_status\u001b[39m(e, name):\n\u001b[1;32m   7261\u001b[0m   e\u001b[39m.\u001b[39mmessage \u001b[39m+\u001b[39m\u001b[39m=\u001b[39m (\u001b[39m\"\u001b[39m\u001b[39m name: \u001b[39m\u001b[39m\"\u001b[39m \u001b[39m+\u001b[39m name \u001b[39mif\u001b[39;00m name \u001b[39mis\u001b[39;00m \u001b[39mnot\u001b[39;00m \u001b[39mNone\u001b[39;00m \u001b[39melse\u001b[39;00m \u001b[39m\"\u001b[39m\u001b[39m\"\u001b[39m)\n\u001b[0;32m-> 7262\u001b[0m   \u001b[39mraise\u001b[39;00m core\u001b[39m.\u001b[39m_status_to_exception(e) \u001b[39mfrom\u001b[39;00m \u001b[39mNone\u001b[39;00m\n",
      "\u001b[0;31mInvalidArgumentError\u001b[0m: {{function_node __wrapped__GatherNd_device_/job:localhost/replica:0/task:0/device:CPU:0}} index innermost dimension length must be <= params rank; saw: 4 vs. 3 [Op:GatherNd]"
     ]
    }
   ],
   "source": [
    "pi, V = PPO(envs, create_policy_model(), create_value_function_model(), TRAIN_EPOCHS=4)"
   ]
  },
  {
   "cell_type": "code",
   "execution_count": null,
   "metadata": {},
   "outputs": [],
   "source": []
  }
 ],
 "metadata": {
  "kernelspec": {
   "display_name": "drl",
   "language": "python",
   "name": "python3"
  },
  "language_info": {
   "codemirror_mode": {
    "name": "ipython",
    "version": 3
   },
   "file_extension": ".py",
   "mimetype": "text/x-python",
   "name": "python",
   "nbconvert_exporter": "python",
   "pygments_lexer": "ipython3",
   "version": "3.11.3"
  },
  "orig_nbformat": 4
 },
 "nbformat": 4,
 "nbformat_minor": 2
}
