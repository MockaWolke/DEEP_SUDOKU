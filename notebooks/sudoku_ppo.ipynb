{
 "cells": [
  {
   "cell_type": "code",
   "execution_count": 1,
   "metadata": {},
   "outputs": [
    {
     "name": "stderr",
     "output_type": "stream",
     "text": [
      "2023-08-22 10:21:25.425924: I tensorflow/core/platform/cpu_feature_guard.cc:182] This TensorFlow binary is optimized to use available CPU instructions in performance-critical operations.\n",
      "To enable the following instructions: SSE4.1 SSE4.2 AVX AVX2 FMA, in other operations, rebuild TensorFlow with the appropriate compiler flags.\n"
     ]
    },
    {
     "name": "stdout",
     "output_type": "stream",
     "text": [
      "Sudoku Environment avaible at gymnasium as 'Sudoku-v0'.\n"
     ]
    }
   ],
   "source": [
    "from deepsudoku import REPO_PATH, DIFFICULTIES\n",
    "import os\n",
    "os.chdir(REPO_PATH)\n",
    "\n",
    "import tensorflow as tf\n",
    "import numpy as np\n",
    "from deepsudoku.reinforcement_learning.ppo import *"
   ]
  },
  {
   "cell_type": "code",
   "execution_count": 2,
   "metadata": {},
   "outputs": [
    {
     "name": "stderr",
     "output_type": "stream",
     "text": [
      "/home/mindset/miniconda3/envs/drl/lib/python3.11/site-packages/gymnasium/envs/registration.py:523: DeprecationWarning: \u001b[33mWARN: The environment Sudoku-v0 is out of date. You should consider upgrading to version `v1`.\u001b[0m\n",
      "  logger.deprecation(\n"
     ]
    }
   ],
   "source": [
    "envs = PPO_MultiDiscrete_Environment_Wrapper('Sudoku-v0', 5)\n",
    "\n",
    "sudoku_input_shape = (9,9)"
   ]
  },
  {
   "cell_type": "code",
   "execution_count": 3,
   "metadata": {},
   "outputs": [],
   "source": [
    "# Create models\n",
    "\n",
    "# Implementation Detail 2: Orthogonal Initialization of hidden weights and constant initialization of biases and output weights\n",
    "# Biases seem to be 0 by default in Keras\n",
    "hidden_ortho_init = lambda: tf.keras.initializers.Orthogonal(gain=np.sqrt(2))\n",
    "pol_out_ortho_init = lambda: tf.keras.initializers.Orthogonal(gain=0.01)\n",
    "val_out_ortho_init = lambda: tf.keras.initializers.Orthogonal(gain=1)\n",
    "\n",
    "def create_policy_model():\n",
    "    inputs = tf.keras.Input(shape=sudoku_input_shape)\n",
    "    x = tf.keras.layers.Flatten()(inputs)\n",
    "    x = tf.keras.layers.Dense(128, activation=\"tanh\", kernel_initializer=hidden_ortho_init())(x)\n",
    "    x = tf.keras.layers.Dense(128, activation=\"tanh\", kernel_initializer=hidden_ortho_init())(x)\n",
    "    x = [tf.keras.layers.Dense(9, activation=\"log_softmax\", kernel_initializer=pol_out_ortho_init())(x) for i in range(3)]\n",
    "    x = tf.keras.layers.Concatenate()(x)\n",
    "    outputs = tf.keras.layers.Reshape((3,9))(x)\n",
    "    model = tf.keras.Model(inputs=inputs, outputs=outputs, name=\"pi\")\n",
    "    return model\n",
    "\n",
    "def create_value_function_model():\n",
    "    inputs = tf.keras.Input(shape=sudoku_input_shape)\n",
    "    x = tf.keras.layers.Flatten()(inputs)\n",
    "    x = tf.keras.layers.Dense(32, activation=\"relu\", kernel_initializer=hidden_ortho_init())(x)\n",
    "    #x = tf.keras.layers.Dense(32, activation=\"relu\", kernel_initializer=hidden_ortho_init())(x)\n",
    "    outputs = tf.keras.layers.Dense(1, activation=\"linear\", kernel_initializer=val_out_ortho_init())(x)\n",
    "    model = tf.keras.Model(inputs=inputs, outputs=outputs, name=\"V\")\n",
    "    return model\n"
   ]
  },
  {
   "cell_type": "code",
   "execution_count": 4,
   "metadata": {},
   "outputs": [
    {
     "name": "stderr",
     "output_type": "stream",
     "text": [
      "2023-08-22 10:21:27.587115: I tensorflow/core/common_runtime/process_util.cc:146] Creating new thread pool with default inter op setting: 2. Tune using inter_op_parallelism_threads for best performance.\n"
     ]
    },
    {
     "name": "stdout",
     "output_type": "stream",
     "text": [
      "epoch:  0  ; KL:  0  ; LR:  0.005\n",
      "Collection\n",
      "Tapework\n",
      "epoch:  1  ; KL:  0.069094256  ; LR:  0.00375\n",
      "Collection\n",
      "Tapework\n",
      "epoch:  2  ; KL:  0.023290897  ; LR:  0.0025\n",
      "Collection\n",
      "Tapework\n",
      "epoch:  3  ; KL:  0.021868449  ; LR:  0.00125\n",
      "Collection\n",
      "Tapework\n"
     ]
    }
   ],
   "source": [
    "pi, V = PPO(envs, create_policy_model(), create_value_function_model(), TRAIN_EPOCHS=4)"
   ]
  },
  {
   "cell_type": "code",
   "execution_count": null,
   "metadata": {},
   "outputs": [],
   "source": []
  }
 ],
 "metadata": {
  "kernelspec": {
   "display_name": "drl",
   "language": "python",
   "name": "python3"
  },
  "language_info": {
   "codemirror_mode": {
    "name": "ipython",
    "version": 3
   },
   "file_extension": ".py",
   "mimetype": "text/x-python",
   "name": "python",
   "nbconvert_exporter": "python",
   "pygments_lexer": "ipython3",
   "version": "3.11.3"
  },
  "orig_nbformat": 4
 },
 "nbformat": 4,
 "nbformat_minor": 2
}
