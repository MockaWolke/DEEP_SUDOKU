{
 "cells": [
  {
   "cell_type": "code",
   "execution_count": 14,
   "metadata": {},
   "outputs": [],
   "source": [
    "from deepsudoku import REPO_PATH, TDOKU_AVAILABLE, PATH_TO_TDOKU_BIN\n",
    "from deepsudoku.utils import Board\n",
    "import random\n",
    "import tqdm\n",
    "import multiprocessing\n",
    "import os\n",
    "from deepsudoku.generate import construct_puzzle_solution\n",
    "\n",
    "os.chdir(REPO_PATH)\n",
    "\n",
    "N_CPUS = 7\n",
    "\n",
    "N_GAMES = int(5e6)"
   ]
  },
  {
   "cell_type": "code",
   "execution_count": 11,
   "metadata": {},
   "outputs": [
    {
     "name": "stdout",
     "output_type": "stream",
     "text": [
      "263 µs ± 4.74 µs per loop (mean ± std. dev. of 7 runs, 1,000 loops each)\n"
     ]
    }
   ],
   "source": [
    "%%timeit\n",
    "construct_puzzle_solution()"
   ]
  },
  {
   "cell_type": "code",
   "execution_count": 16,
   "metadata": {},
   "outputs": [],
   "source": [
    "def generate_full(none):\n",
    "    \n",
    "    val = construct_puzzle_solution()\n",
    "    val = \"\".join(map(str, val))\n",
    "\n",
    "    return val"
   ]
  },
  {
   "cell_type": "code",
   "execution_count": 9,
   "metadata": {},
   "outputs": [
    {
     "name": "stdout",
     "output_type": "stream",
     "text": [
      "273 µs ± 13.9 µs per loop (mean ± std. dev. of 7 runs, 1,000 loops each)\n"
     ]
    }
   ],
   "source": [
    "%%timeit\n",
    "generate_full()"
   ]
  },
  {
   "cell_type": "code",
   "execution_count": 17,
   "metadata": {},
   "outputs": [
    {
     "name": "stderr",
     "output_type": "stream",
     "text": [
      "100%|██████████| 5000000/5000000 [07:41<00:00, 10842.33it/s]\n"
     ]
    }
   ],
   "source": [
    "\n",
    "with multiprocessing.Pool(N_CPUS) as p:\n",
    "    games = list(\n",
    "        tqdm.tqdm(\n",
    "            p.imap(generate_full, [()] * N_GAMES),\n",
    "            total=N_GAMES,\n",
    "        )\n",
    ")\n"
   ]
  },
  {
   "cell_type": "code",
   "execution_count": null,
   "metadata": {},
   "outputs": [],
   "source": [
    "with multiprocessing.Pool(N_CPUS) as p:\n",
    "    games = list(\n",
    "        tqdm.tqdm(\n",
    "            p.imap(generate_full, [()] * N_GAMES),\n",
    "            total=N_GAMES,\n",
    "        )\n",
    ")"
   ]
  },
  {
   "cell_type": "code",
   "execution_count": 20,
   "metadata": {},
   "outputs": [],
   "source": [
    "import pickle\n",
    "with open(\"sudokus.pkl\", \"wb\") as file:\n",
    "    pickle.dump(games, file)"
   ]
  },
  {
   "cell_type": "code",
   "execution_count": 58,
   "metadata": {},
   "outputs": [
    {
     "data": {
      "text/plain": [
       "200000"
      ]
     },
     "execution_count": 58,
     "metadata": {},
     "output_type": "execute_result"
    }
   ],
   "source": [
    "steps = N_GAMES //  25\n",
    "steps_size = N_GAMES\n",
    "steps"
   ]
  },
  {
   "cell_type": "code",
   "execution_count": 59,
   "metadata": {},
   "outputs": [
    {
     "name": "stderr",
     "output_type": "stream",
     "text": [
      "100%|██████████| 25/25 [00:00<00:00, 26.25it/s]\n"
     ]
    }
   ],
   "source": [
    "\n",
    "for n in tqdm.tqdm(range(25)):\n",
    "        \n",
    "    with open(f\"saved_sudoku_junks/{n+1:05}.pkl\", \"wb\") as file:\n",
    "        pickle.dump(games[n * steps: (n * steps) + steps], file)    "
   ]
  },
  {
   "cell_type": "code",
   "execution_count": 60,
   "metadata": {},
   "outputs": [
    {
     "data": {
      "text/plain": [
       "200000"
      ]
     },
     "execution_count": 60,
     "metadata": {},
     "output_type": "execute_result"
    }
   ],
   "source": [
    "with open(\"saved_sudoku_junks/00001.pkl\", \"rb\") as file:\n",
    "    \n",
    "    a = pickle.load(file)\n",
    "len(a)"
   ]
  },
  {
   "cell_type": "code",
   "execution_count": 62,
   "metadata": {},
   "outputs": [
    {
     "data": {
      "text/plain": [
       "24.7955322265625"
      ]
     },
     "execution_count": 62,
     "metadata": {},
     "output_type": "execute_result"
    }
   ],
   "source": [
    "sys.getsizeof(a[0]) * 200000 / (1024**2)"
   ]
  }
 ],
 "metadata": {
  "kernelspec": {
   "display_name": "sudoku_torch",
   "language": "python",
   "name": "python3"
  },
  "language_info": {
   "codemirror_mode": {
    "name": "ipython",
    "version": 3
   },
   "file_extension": ".py",
   "mimetype": "text/x-python",
   "name": "python",
   "nbconvert_exporter": "python",
   "pygments_lexer": "ipython3",
   "version": "3.11.4"
  },
  "orig_nbformat": 4
 },
 "nbformat": 4,
 "nbformat_minor": 2
}
