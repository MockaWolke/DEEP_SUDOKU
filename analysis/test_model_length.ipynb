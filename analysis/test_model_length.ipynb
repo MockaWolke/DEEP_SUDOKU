{
 "cells": [
  {
   "cell_type": "code",
   "execution_count": 1,
   "metadata": {},
   "outputs": [
    {
     "name": "stdout",
     "output_type": "stream",
     "text": [
      "Sudoku Environment avaible at gymnasium as 'Sudoku-v0'.\n"
     ]
    }
   ],
   "source": [
    "import deepsudoku\n",
    "import os\n",
    "import gymnasium as gym\n",
    "import torch\n",
    "import numpy as np\n",
    "import matplotlib.pyplot as plt\n",
    "import tqdm\n",
    "import deepsudoku.reinforcement_learning\n",
    "from deepsudoku.reinforcement_learning import majority_vote\n",
    "\n",
    "os.chdir(deepsudoku.REPO_PATH)\n",
    "\n",
    "from reinforcement_exp.single_action_architectures import *"
   ]
  },
  {
   "cell_type": "code",
   "execution_count": 2,
   "metadata": {},
   "outputs": [],
   "source": [
    "env = gym.make(\"Sudoku-x1\", upper_bound_missing_digist = 20)\n",
    "\n",
    "agent = OnlyConvSeperateValue(True).cuda()\n",
    "agent.load_state_dict(torch.load(\"reinforcement_exp/runs/Sudoku-x1__Best_Model_x1_20__1__1693321626/final_model.pth\"))\n",
    "\n",
    "obs, _ = env.reset()"
   ]
  },
  {
   "cell_type": "code",
   "execution_count": 5,
   "metadata": {},
   "outputs": [],
   "source": [
    "def pi(obs  : np.ndarray) -> tuple:\n",
    "    \n",
    "    obs = torch.tensor(obs).float().to(\"cuda\")\n",
    "\n",
    "\n",
    "    action = agent.get_greedy_action(obs)[0]\n",
    "\n",
    "    action = np.unravel_index(action.cpu().numpy(),(9,9,9))\n",
    "    \n",
    "    return action"
   ]
  },
  {
   "cell_type": "code",
   "execution_count": 7,
   "metadata": {},
   "outputs": [
    {
     "name": "stdout",
     "output_type": "stream",
     "text": [
      "21.1 ms ± 763 µs per loop (mean ± std. dev. of 7 runs, 10 loops each)\n"
     ]
    }
   ],
   "source": [
    "%%timeit\n",
    "majority_vote.majority_vote(pi, obs, 20)"
   ]
  },
  {
   "cell_type": "code",
   "execution_count": null,
   "metadata": {},
   "outputs": [],
   "source": [
    "def eval_majority():\n",
    "    \n",
    "    obs, _ = env.reset()\n",
    "    \n",
    "    terminated = False\n",
    "    episodic_reward = 0\n",
    "    episode_length = 0\n",
    "    \n",
    "    while not terminated:\n",
    "        \n",
    "        action = agent.get_greedy_action(obs)[0]\n",
    "\n",
    "        action = majority_vote.majority_vote(pi, obs, 20)\n",
    "        \n",
    "        obs, reward, terminated , _, _ = env.step(action)\n",
    "\n",
    "        episodic_reward += reward\n",
    "\n",
    "        if terminated:\n",
    "            \n",
    "            return episodic_reward, episode_length\n",
    "    \n",
    "        episode_length += 1"
   ]
  },
  {
   "cell_type": "code",
   "execution_count": 3,
   "metadata": {},
   "outputs": [],
   "source": [
    "def eval_greedy():\n",
    "    \n",
    "    obs, _ = env.reset()\n",
    "    obs = torch.tensor(obs)[None,:].float().to(\"cuda\")\n",
    "    \n",
    "    terminated = False\n",
    "    episodic_reward = 0\n",
    "    episode_length = 0\n",
    "    \n",
    "    while not terminated:\n",
    "        \n",
    "        action = agent.get_greedy_action(obs)[0]\n",
    "\n",
    "        action = np.unravel_index(action.cpu().numpy(),(9,9,9))\n",
    "\n",
    "        obs, reward, terminated , _, _ = env.step(action)\n",
    "\n",
    "        episodic_reward += reward\n",
    "\n",
    "        if terminated:\n",
    "            \n",
    "            return episodic_reward, episode_length\n",
    "            \n",
    "        obs = torch.tensor(obs)[None,:].float().to(\"cuda\")\n",
    "\n",
    "        episode_length += 1\n",
    "        \n",
    "        \n",
    "def eval_cat():\n",
    "    \n",
    "    obs, _ = env.reset()\n",
    "    obs = torch.tensor(obs)[None,:].float().to(\"cuda\")\n",
    "    \n",
    "    terminated = False\n",
    "    episodic_reward = 0\n",
    "    episode_length = 0\n",
    "    \n",
    "    while not terminated:\n",
    "        \n",
    "        action = agent.get_action_and_value(obs)[0][0]\n",
    "\n",
    "        action = np.unravel_index(action.cpu().numpy(),(9,9,9))\n",
    "        obs, reward, terminated , _, _ = env.step(action)\n",
    "\n",
    "        episodic_reward += reward\n",
    "\n",
    "        if terminated:\n",
    "            \n",
    "            return episodic_reward, episode_length\n",
    "            \n",
    "        obs = torch.tensor(obs)[None,:].float().to(\"cuda\")\n",
    "\n",
    "        episode_length += 1\n",
    "        "
   ]
  },
  {
   "cell_type": "code",
   "execution_count": 5,
   "metadata": {},
   "outputs": [
    {
     "name": "stderr",
     "output_type": "stream",
     "text": [
      "100%|██████████| 1000/1000 [00:16<00:00, 61.45it/s]\n"
     ]
    },
    {
     "data": {
      "text/plain": [
       "(array([ 33.,  38.,  33.,  35.,  39.,  34.,  31.,  28.,  29.,  33.,  64.,\n",
       "         74.,  90., 125., 116.,  73.,  61.,  37.,  27.]),\n",
       " array([ 0.,  1.,  2.,  3.,  4.,  5.,  6.,  7.,  8.,  9., 10., 11., 12.,\n",
       "        13., 14., 15., 16., 17., 18., 19.]),\n",
       " <BarContainer object of 19 artists>)"
      ]
     },
     "execution_count": 5,
     "metadata": {},
     "output_type": "execute_result"
    },
    {
     "data": {
      "image/png": "[encoded data removed]",
      "text/plain": [
       "<Figure size 640x480 with 1 Axes>"
      ]
     },
     "metadata": {},
     "output_type": "display_data"
    }
   ],
   "source": [
    "rewards = []\n",
    "lengths = []\n",
    "\n",
    "for _ in tqdm.tqdm(range(1000)):\n",
    "    \n",
    "    episodic_reward, episode_length = eval_cat()\n",
    "    rewards.append(episodic_reward)\n",
    "    lengths.append(episode_length)\n",
    "\n",
    "plt.hist(lengths, bins = 19)"
   ]
  },
  {
   "cell_type": "code",
   "execution_count": 6,
   "metadata": {},
   "outputs": [
    {
     "name": "stderr",
     "output_type": "stream",
     "text": [
      "  0%|          | 0/1000 [00:00<?, ?it/s]"
     ]
    },
    {
     "name": "stderr",
     "output_type": "stream",
     "text": [
      "100%|██████████| 1000/1000 [00:07<00:00, 129.56it/s]\n"
     ]
    },
    {
     "data": {
      "text/plain": [
       "(array([116.,  79., 101., 132., 178., 176., 133.,  61.,  17.,   7.]),\n",
       " array([ 0. ,  1.9,  3.8,  5.7,  7.6,  9.5, 11.4, 13.3, 15.2, 17.1, 19. ]),\n",
       " <BarContainer object of 10 artists>)"
      ]
     },
     "execution_count": 6,
     "metadata": {},
     "output_type": "execute_result"
    },
    {
     "data": {
      "image/png": "[encoded data removed]",
      "text/plain": [
       "<Figure size 640x480 with 1 Axes>"
      ]
     },
     "metadata": {},
     "output_type": "display_data"
    }
   ],
   "source": [
    "env = gym.make(\"Sudoku-x2\")\n",
    "\n",
    "agent = OnlyConvSeperateValue(True).cuda()\n",
    "agent.load_state_dict(torch.load(\"reinforcement_exp/runs/Sudoku-x2__Best_Model_x2_easy__1__1693322907/final_model.pth\"))\n",
    "\n",
    "obs, _ = env.reset()\n",
    "obs = torch.tensor(obs)[None,:].float().to(\"cuda\")\n",
    "\n",
    "\n",
    "rewards = []\n",
    "lengths = []\n",
    "\n",
    "for _ in tqdm.tqdm(range(1000)):\n",
    "    \n",
    "    episodic_reward, episode_length = eval_greedy()\n",
    "    rewards.append(episodic_reward)\n",
    "    lengths.append(episode_length)\n",
    "\n",
    "plt.hist(lengths,)"
   ]
  }
 ],
 "metadata": {
  "kernelspec": {
   "display_name": "sudoku_torch",
   "language": "python",
   "name": "python3"
  },
  "language_info": {
   "codemirror_mode": {
    "name": "ipython",
    "version": 3
   },
   "file_extension": ".py",
   "mimetype": "text/x-python",
   "name": "python",
   "nbconvert_exporter": "python",
   "pygments_lexer": "ipython3",
   "version": "3.11.4"
  },
  "orig_nbformat": 4
 },
 "nbformat": 4,
 "nbformat_minor": 2
}
