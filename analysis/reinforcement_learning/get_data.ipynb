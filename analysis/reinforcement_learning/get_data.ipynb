{
 "cells": [
  {
   "cell_type": "code",
   "execution_count": 1,
   "metadata": {},
   "outputs": [],
   "source": [
    "import numpy as np\n",
    "from deepsudoku import REPO_PATH\n",
    "import os\n",
    "import glob\n",
    "import pandas as pd\n",
    "import seaborn as sns\n",
    "import matplotlib.pyplot as plt\n",
    "from pathlib import Path\n",
    "from tensorboard.backend.event_processing.event_accumulator import EventAccumulator\n",
    "import tqdm\n",
    "\n",
    "os.chdir(REPO_PATH)"
   ]
  },
  {
   "cell_type": "code",
   "execution_count": 2,
   "metadata": {},
   "outputs": [
    {
     "name": "stderr",
     "output_type": "stream",
     "text": [
      "  0%|          | 0/12 [00:00<?, ?it/s]2023-09-06 17:15:01.094125: I tensorflow/core/platform/cpu_feature_guard.cc:182] This TensorFlow binary is optimized to use available CPU instructions in performance-critical operations.\n",
      "To enable the following instructions: AVX2 FMA, in other operations, rebuild TensorFlow with the appropriate compiler flags.\n",
      "2023-09-06 17:15:01.704905: W tensorflow/compiler/tf2tensorrt/utils/py_utils.cc:38] TF-TRT Warning: Could not find TensorRT\n",
      "100%|██████████| 12/12 [02:20<00:00, 11.69s/it]\n"
     ]
    }
   ],
   "source": [
    "wanted = ['eval/avg_episodic_length',\n",
    "  'eval/avg_episodic_return',\n",
    "  'eval/avg_winrate',\n",
    "  'charts/avg_episodic_return',\n",
    "  'charts/avg_episodic_length',\n",
    "  'losses/value_loss']\n",
    "\n",
    "\n",
    "def get_df(path):\n",
    "  event_acc = EventAccumulator(path)\n",
    "  event_acc.Reload()\n",
    "  event_acc.Tags()\n",
    "\n",
    "  df = pd.DataFrame([], columns = [\"time_stamp\"]+wanted)\n",
    "\n",
    "\n",
    "  for scalar in wanted:\n",
    "\n",
    "    for val in event_acc.Scalars(scalar):\n",
    "      \n",
    "      \n",
    "      df.loc[val.step,[\"time_stamp\",scalar]] = [val.wall_time,val.value]\n",
    "  \n",
    "  path = Path(path).name\n",
    "  env = path[:path.find(\"_\")]\n",
    "  df[\"env\"] = env\n",
    "  number = path.find(\"_\") + 5\n",
    "  name = path[path.find(\"_\")+2:path.find(\"__\",number)]\n",
    "  df[\"run\"] = name\n",
    "  return df    \n",
    "\n",
    "dfs = []\n",
    "\n",
    "for path in tqdm.tqdm(glob.glob(\"reinforcement_learning_experiment/runs/*\")):\n",
    "\n",
    "  dfs.append(get_df(path))"
   ]
  },
  {
   "cell_type": "code",
   "execution_count": 3,
   "metadata": {},
   "outputs": [],
   "source": [
    "data = pd.concat(dfs)\n",
    "data = data.reset_index(names =\"step\")\n",
    "data.to_csv(\"stats/rl_results.csv\")"
   ]
  },
  {
   "cell_type": "code",
   "execution_count": null,
   "metadata": {},
   "outputs": [],
   "source": []
  }
 ],
 "metadata": {
  "kernelspec": {
   "display_name": "sudoku_torch",
   "language": "python",
   "name": "python3"
  },
  "language_info": {
   "codemirror_mode": {
    "name": "ipython",
    "version": 3
   },
   "file_extension": ".py",
   "mimetype": "text/x-python",
   "name": "python",
   "nbconvert_exporter": "python",
   "pygments_lexer": "ipython3",
   "version": "3.11.0"
  },
  "orig_nbformat": 4
 },
 "nbformat": 4,
 "nbformat_minor": 2
}
