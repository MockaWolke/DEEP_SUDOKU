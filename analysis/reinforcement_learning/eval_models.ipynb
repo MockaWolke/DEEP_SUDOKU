{
 "cells": [
  {
   "cell_type": "code",
   "execution_count": 5,
   "metadata": {},
   "outputs": [],
   "source": [
    "import deepsudoku\n",
    "import os\n",
    "import gymnasium as gym\n",
    "import torch\n",
    "import numpy as np\n",
    "import matplotlib.pyplot as plt\n",
    "import tqdm\n",
    "import deepsudoku.reinforcement_learning\n",
    "from deepsudoku.reinforcement_learning.ensemble import EnsembleModel\n",
    "from deepsudoku.reinforcement_learning import agents, evaluate_models\n",
    "import pandas as pd\n",
    "\n",
    "import random\n",
    "\n",
    "random.seed(0)\n",
    "\n",
    "os.chdir(deepsudoku.REPO_PATH)"
   ]
  },
  {
   "cell_type": "code",
   "execution_count": 6,
   "metadata": {},
   "outputs": [],
   "source": [
    "agent = agents.get_sudoku_agent()"
   ]
  },
  {
   "cell_type": "code",
   "execution_count": 7,
   "metadata": {},
   "outputs": [
    {
     "data": {
      "image/png": "[encoded data removed]",
      "text/plain": [
       "<Figure size 600x600 with 1 Axes>"
      ]
     },
     "metadata": {},
     "output_type": "display_data"
    }
   ],
   "source": [
    "env = gym.make(\"Sudoku-x2\", )\n",
    "obs,_ = env.reset()\n",
    "env.render()"
   ]
  },
  {
   "cell_type": "code",
   "execution_count": 8,
   "metadata": {},
   "outputs": [],
   "source": [
    "# N_GAMES = 10000\n",
    "# winrate_over_alot = evaluate_models.calculate_winrate(N_GAMES, env, agent)\n",
    "\n",
    "# series = pd.Series([winrate_over_alot], index = [N_GAMES])\n",
    "# series.to_json(f\"stats/winrate_easy_{N_GAMES}_games.json\")"
   ]
  },
  {
   "cell_type": "code",
   "execution_count": 9,
   "metadata": {},
   "outputs": [],
   "source": [
    "# N_STEPS = 10000\n",
    "\n",
    "# winrates = []\n",
    "# x = np.arange(1, 28)\n",
    "\n",
    "# for missing_digit in x:\n",
    "#     env = gym.make(\"Sudoku-x2\", upper_bound_missing_digist = missing_digit)\n",
    "    \n",
    "#     winrates.append(evaluate_models.calculate_winrate(N_STEPS, env, agent))    \n",
    "    \n",
    "# series = pd.Series(winrates, index = x,)\n",
    "# series.to_json(f\"stats/winrate_against_missing_digits_{N_GAMES}_games.json\")"
   ]
  },
  {
   "cell_type": "code",
   "execution_count": 11,
   "metadata": {},
   "outputs": [
    {
     "name": "stderr",
     "output_type": "stream",
     "text": [
      "100%|██████████| 1000/1000 [01:19<00:00, 12.65it/s]\n",
      "100%|██████████| 1000/1000 [02:00<00:00,  8.27it/s]\n",
      "100%|██████████| 1000/1000 [04:20<00:00,  3.84it/s]\n"
     ]
    },
    {
     "data": {
      "text/html": [
       "<div>\n",
       "<style scoped>\n",
       "    .dataframe tbody tr th:only-of-type {\n",
       "        vertical-align: middle;\n",
       "    }\n",
       "\n",
       "    .dataframe tbody tr th {\n",
       "        vertical-align: top;\n",
       "    }\n",
       "\n",
       "    .dataframe thead th {\n",
       "        text-align: right;\n",
       "    }\n",
       "</style>\n",
       "<table border=\"1\" class=\"dataframe\">\n",
       "  <thead>\n",
       "    <tr style=\"text-align: right;\">\n",
       "      <th></th>\n",
       "      <th>winrate</th>\n",
       "      <th>n_votes</th>\n",
       "      <th>n_pertubations</th>\n",
       "      <th>mode</th>\n",
       "      <th>games</th>\n",
       "    </tr>\n",
       "  </thead>\n",
       "  <tbody>\n",
       "    <tr>\n",
       "      <th>0</th>\n",
       "      <td>0.724</td>\n",
       "      <td>10.0</td>\n",
       "      <td>10.0</td>\n",
       "      <td>average</td>\n",
       "      <td>1000</td>\n",
       "    </tr>\n",
       "    <tr>\n",
       "      <th>1</th>\n",
       "      <td>0.738</td>\n",
       "      <td>10.0</td>\n",
       "      <td>20.0</td>\n",
       "      <td>average</td>\n",
       "      <td>1000</td>\n",
       "    </tr>\n",
       "    <tr>\n",
       "      <th>2</th>\n",
       "      <td>0.789</td>\n",
       "      <td>10.0</td>\n",
       "      <td>50.0</td>\n",
       "      <td>average</td>\n",
       "      <td>1000</td>\n",
       "    </tr>\n",
       "  </tbody>\n",
       "</table>\n",
       "</div>"
      ],
      "text/plain": [
       "   winrate  n_votes  n_pertubations     mode  games\n",
       "0    0.724     10.0            10.0  average   1000\n",
       "1    0.738     10.0            20.0  average   1000\n",
       "2    0.789     10.0            50.0  average   1000"
      ]
     },
     "execution_count": 11,
     "metadata": {},
     "output_type": "execute_result"
    }
   ],
   "source": [
    "N_GAMES = 1000\n",
    "\n",
    "env = gym.make(\"Sudoku-x2\", )\n",
    "obs,_ = env.reset()\n",
    "\n",
    "mode = \"average\"\n",
    "\n",
    "settings = [(10,10), (10,20),(10,50)]\n",
    "\n",
    "df = pd.DataFrame(columns = [\"winrate\", \"n_votes\", \"n_pertubations\"])\n",
    "\n",
    "for i, (n_votes, n_pertubations) in enumerate(settings):\n",
    "    \n",
    "    ensemble_model = EnsembleModel(agent, n_votes,  n_pertubations, n_cpus = 1, mode = mode)\n",
    "    winrate_over_alot = evaluate_models.calculate_winrate(N_GAMES, env, ensemble_model)\n",
    "    \n",
    "    df.loc[i] = [winrate_over_alot, n_votes, n_pertubations]\n",
    "    \n",
    "df[\"mode\"] = mode\n",
    "df[\"games\"] = N_GAMES\n",
    "# df.to_csv(f\"stats/ensemble_{mode}_{N_GAMES}_games.csv\")\n",
    "df"
   ]
  },
  {
   "cell_type": "code",
   "execution_count": 13,
   "metadata": {},
   "outputs": [
    {
     "data": {
      "text/html": [
       "<div>\n",
       "<style scoped>\n",
       "    .dataframe tbody tr th:only-of-type {\n",
       "        vertical-align: middle;\n",
       "    }\n",
       "\n",
       "    .dataframe tbody tr th {\n",
       "        vertical-align: top;\n",
       "    }\n",
       "\n",
       "    .dataframe thead th {\n",
       "        text-align: right;\n",
       "    }\n",
       "</style>\n",
       "<table border=\"1\" class=\"dataframe\">\n",
       "  <thead>\n",
       "    <tr style=\"text-align: right;\">\n",
       "      <th></th>\n",
       "      <th>winrate</th>\n",
       "      <th>n_votes</th>\n",
       "      <th>n_pertubations</th>\n",
       "      <th>mode</th>\n",
       "      <th>games</th>\n",
       "    </tr>\n",
       "  </thead>\n",
       "  <tbody>\n",
       "    <tr>\n",
       "      <th>0</th>\n",
       "      <td>0.724</td>\n",
       "      <td>10.0</td>\n",
       "      <td>10.0</td>\n",
       "      <td>average</td>\n",
       "      <td>1000</td>\n",
       "    </tr>\n",
       "    <tr>\n",
       "      <th>1</th>\n",
       "      <td>0.738</td>\n",
       "      <td>10.0</td>\n",
       "      <td>20.0</td>\n",
       "      <td>average</td>\n",
       "      <td>1000</td>\n",
       "    </tr>\n",
       "    <tr>\n",
       "      <th>2</th>\n",
       "      <td>0.789</td>\n",
       "      <td>10.0</td>\n",
       "      <td>50.0</td>\n",
       "      <td>average</td>\n",
       "      <td>1000</td>\n",
       "    </tr>\n",
       "  </tbody>\n",
       "</table>\n",
       "</div>"
      ],
      "text/plain": [
       "   winrate  n_votes  n_pertubations     mode  games\n",
       "0    0.724     10.0            10.0  average   1000\n",
       "1    0.738     10.0            20.0  average   1000\n",
       "2    0.789     10.0            50.0  average   1000"
      ]
     },
     "execution_count": 13,
     "metadata": {},
     "output_type": "execute_result"
    }
   ],
   "source": [
    "df"
   ]
  },
  {
   "cell_type": "code",
   "execution_count": 12,
   "metadata": {},
   "outputs": [
    {
     "name": "stderr",
     "output_type": "stream",
     "text": [
      "100%|██████████| 1000/1000 [01:18<00:00, 12.68it/s]\n"
     ]
    },
    {
     "ename": "ValueError",
     "evalue": "Must have equal len keys and value when setting with an iterable",
     "output_type": "error",
     "traceback": [
      "\u001b[0;31m---------------------------------------------------------------------------\u001b[0m",
      "\u001b[0;31mValueError\u001b[0m                                Traceback (most recent call last)",
      "Cell \u001b[0;32mIn[12], line 8\u001b[0m\n\u001b[1;32m      5\u001b[0m ensemble_model \u001b[39m=\u001b[39m EnsembleModel(agent, n_votes,  n_pertubations, n_cpus \u001b[39m=\u001b[39m \u001b[39m1\u001b[39m, mode \u001b[39m=\u001b[39m mode)\n\u001b[1;32m      6\u001b[0m winrate_over_alot \u001b[39m=\u001b[39m evaluate_models\u001b[39m.\u001b[39mcalculate_winrate(N_GAMES, env, ensemble_model)\n\u001b[0;32m----> 8\u001b[0m df\u001b[39m.\u001b[39mloc[i] \u001b[39m=\u001b[39m [winrate_over_alot, n_votes, n_pertubations]\n",
      "File \u001b[0;32m~/anaconda3/envs/sudoku_torch/lib/python3.11/site-packages/pandas/core/indexing.py:849\u001b[0m, in \u001b[0;36m_LocationIndexer.__setitem__\u001b[0;34m(self, key, value)\u001b[0m\n\u001b[1;32m    846\u001b[0m \u001b[39mself\u001b[39m\u001b[39m.\u001b[39m_has_valid_setitem_indexer(key)\n\u001b[1;32m    848\u001b[0m iloc \u001b[39m=\u001b[39m \u001b[39mself\u001b[39m \u001b[39mif\u001b[39;00m \u001b[39mself\u001b[39m\u001b[39m.\u001b[39mname \u001b[39m==\u001b[39m \u001b[39m\"\u001b[39m\u001b[39miloc\u001b[39m\u001b[39m\"\u001b[39m \u001b[39melse\u001b[39;00m \u001b[39mself\u001b[39m\u001b[39m.\u001b[39mobj\u001b[39m.\u001b[39miloc\n\u001b[0;32m--> 849\u001b[0m iloc\u001b[39m.\u001b[39m_setitem_with_indexer(indexer, value, \u001b[39mself\u001b[39m\u001b[39m.\u001b[39mname)\n",
      "File \u001b[0;32m~/anaconda3/envs/sudoku_torch/lib/python3.11/site-packages/pandas/core/indexing.py:1835\u001b[0m, in \u001b[0;36m_iLocIndexer._setitem_with_indexer\u001b[0;34m(self, indexer, value, name)\u001b[0m\n\u001b[1;32m   1832\u001b[0m \u001b[39m# align and set the values\u001b[39;00m\n\u001b[1;32m   1833\u001b[0m \u001b[39mif\u001b[39;00m take_split_path:\n\u001b[1;32m   1834\u001b[0m     \u001b[39m# We have to operate column-wise\u001b[39;00m\n\u001b[0;32m-> 1835\u001b[0m     \u001b[39mself\u001b[39m\u001b[39m.\u001b[39m_setitem_with_indexer_split_path(indexer, value, name)\n\u001b[1;32m   1836\u001b[0m \u001b[39melse\u001b[39;00m:\n\u001b[1;32m   1837\u001b[0m     \u001b[39mself\u001b[39m\u001b[39m.\u001b[39m_setitem_single_block(indexer, value, name)\n",
      "File \u001b[0;32m~/anaconda3/envs/sudoku_torch/lib/python3.11/site-packages/pandas/core/indexing.py:1920\u001b[0m, in \u001b[0;36m_iLocIndexer._setitem_with_indexer_split_path\u001b[0;34m(self, indexer, value, name)\u001b[0m\n\u001b[1;32m   1917\u001b[0m         \u001b[39mself\u001b[39m\u001b[39m.\u001b[39m_setitem_single_column(ilocs[\u001b[39m0\u001b[39m], value, pi)\n\u001b[1;32m   1919\u001b[0m     \u001b[39melse\u001b[39;00m:\n\u001b[0;32m-> 1920\u001b[0m         \u001b[39mraise\u001b[39;00m \u001b[39mValueError\u001b[39;00m(\n\u001b[1;32m   1921\u001b[0m             \u001b[39m\"\u001b[39m\u001b[39mMust have equal len keys and value \u001b[39m\u001b[39m\"\u001b[39m\n\u001b[1;32m   1922\u001b[0m             \u001b[39m\"\u001b[39m\u001b[39mwhen setting with an iterable\u001b[39m\u001b[39m\"\u001b[39m\n\u001b[1;32m   1923\u001b[0m         )\n\u001b[1;32m   1925\u001b[0m \u001b[39melse\u001b[39;00m:\n\u001b[1;32m   1926\u001b[0m     \u001b[39m# scalar value\u001b[39;00m\n\u001b[1;32m   1927\u001b[0m     \u001b[39mfor\u001b[39;00m loc \u001b[39min\u001b[39;00m ilocs:\n",
      "\u001b[0;31mValueError\u001b[0m: Must have equal len keys and value when setting with an iterable"
     ]
    }
   ],
   "source": [
    "settings = [(20,10),(50,10)]\n",
    "\n",
    "for i, (n_votes, n_pertubations) in enumerate(settings):\n",
    "    \n",
    "    ensemble_model = EnsembleModel(agent, n_votes,  n_pertubations, n_cpus = 1, mode = mode)\n",
    "    winrate_over_alot = evaluate_models.calculate_winrate(N_GAMES, env, ensemble_model)\n",
    "    \n",
    "    df.loc[i+3] = [winrate_over_alot, n_votes, n_pertubations]"
   ]
  },
  {
   "cell_type": "code",
   "execution_count": 10,
   "metadata": {},
   "outputs": [
    {
     "name": "stderr",
     "output_type": "stream",
     "text": [
      "100%|██████████| 1000/1000 [00:03<00:00, 330.00it/s]\n",
      "100%|██████████| 1000/1000 [00:05<00:00, 184.96it/s]\n",
      "100%|██████████| 1000/1000 [00:07<00:00, 131.21it/s]\n",
      "100%|██████████| 1000/1000 [00:10<00:00, 99.66it/s]\n",
      "100%|██████████| 1000/1000 [00:12<00:00, 78.61it/s]\n",
      "100%|██████████| 1000/1000 [00:14<00:00, 68.63it/s]\n",
      "100%|██████████| 1000/1000 [00:16<00:00, 61.91it/s]\n",
      "100%|██████████| 1000/1000 [00:19<00:00, 51.65it/s]\n",
      "100%|██████████| 1000/1000 [00:21<00:00, 46.51it/s]\n",
      "100%|██████████| 1000/1000 [00:23<00:00, 42.42it/s]\n",
      "100%|██████████| 1000/1000 [00:26<00:00, 37.68it/s]\n",
      "100%|██████████| 1000/1000 [00:28<00:00, 35.27it/s]\n",
      "100%|██████████| 1000/1000 [00:30<00:00, 32.49it/s]\n",
      "100%|██████████| 1000/1000 [00:33<00:00, 29.90it/s]\n",
      "100%|██████████| 1000/1000 [00:36<00:00, 27.30it/s]\n",
      "100%|██████████| 1000/1000 [00:36<00:00, 27.39it/s]\n",
      "100%|██████████| 1000/1000 [00:36<00:00, 27.45it/s]\n",
      "100%|██████████| 1000/1000 [00:38<00:00, 26.22it/s]\n",
      "100%|██████████| 1000/1000 [00:40<00:00, 24.84it/s]\n",
      "100%|██████████| 1000/1000 [00:44<00:00, 22.52it/s]\n",
      "100%|██████████| 1000/1000 [00:44<00:00, 22.32it/s]\n",
      "100%|██████████| 1000/1000 [00:45<00:00, 21.84it/s]\n",
      "100%|██████████| 1000/1000 [00:50<00:00, 19.64it/s]\n",
      "100%|██████████| 1000/1000 [00:50<00:00, 19.94it/s]\n",
      "100%|██████████| 1000/1000 [00:46<00:00, 21.48it/s]\n",
      "100%|██████████| 1000/1000 [00:46<00:00, 21.73it/s]\n",
      "100%|██████████| 1000/1000 [00:45<00:00, 22.17it/s]\n"
     ]
    }
   ],
   "source": [
    "N_STEPS = 1000\n",
    "\n",
    "env = gym.make(\"Sudoku-x2\", )\n",
    "obs,_ = env.reset()\n",
    "\n",
    "majority_small = EnsembleModel(agent, 5,  10, n_cpus = 1, mode = \"majority\")\n",
    "\n",
    "\n",
    "winrates = []\n",
    "x = np.arange(1, 28)\n",
    "\n",
    "for missing_digit in x:\n",
    "    env = gym.make(\"Sudoku-x2\", upper_bound_missing_digist = missing_digit)\n",
    "    \n",
    "    winrates.append(evaluate_models.calculate_winrate(N_STEPS, env, majority_small))    \n",
    "    \n",
    "series = pd.Series(winrates, index = x,)\n",
    "series.to_json(f\"stats/winrate_against_missing_digits_ensemble_majority_small_{N_GAMES}_games.json\")"
   ]
  },
  {
   "cell_type": "code",
   "execution_count": null,
   "metadata": {},
   "outputs": [
    {
     "name": "stderr",
     "output_type": "stream",
     "text": []
    },
    {
     "name": "stderr",
     "output_type": "stream",
     "text": [
      "100%|██████████| 10/10 [00:02<00:00,  4.85it/s]\n",
      "100%|██████████| 10/10 [00:04<00:00,  2.48it/s]\n"
     ]
    }
   ],
   "source": [
    "N_STEPS = 1000\n",
    "\n",
    "env = gym.make(\"Sudoku-x2\", )\n",
    "obs,_ = env.reset()\n",
    "\n",
    "average_big = EnsembleModel(agent, 200,  50, n_cpus = 1, mode = \"average\")\n",
    "\n",
    "\n",
    "winrates = []\n",
    "x = np.arange(1, 28)\n",
    "\n",
    "for missing_digit in x:\n",
    "    env = gym.make(\"Sudoku-x2\", upper_bound_missing_digist = missing_digit)\n",
    "    \n",
    "    winrates.append(evaluate_models.calculate_winrate(N_STEPS, env, average_big))    \n",
    "    \n",
    "series = pd.Series(winrates, index = x,)\n",
    "series.to_json(f\"stats/winrate_against_missing_digits_ensemble_average_big_{N_GAMES}_games.json\")"
   ]
  },
  {
   "cell_type": "code",
   "execution_count": null,
   "metadata": {},
   "outputs": [],
   "source": [
    "N_STEPS = 1000\n",
    "\n",
    "env = gym.make(\"Sudoku-x2\", )\n",
    "obs,_ = env.reset()\n",
    "\n",
    "majority_big = EnsembleModel(agent, 200,  50, n_cpus = 1, mode = \"majority\")\n",
    "\n",
    "\n",
    "winrates = []\n",
    "x = np.arange(1, 28)\n",
    "\n",
    "for missing_digit in x:\n",
    "    env = gym.make(\"Sudoku-x2\", upper_bound_missing_digist = missing_digit)\n",
    "    \n",
    "    winrates.append(evaluate_models.calculate_winrate(N_STEPS, env, majority_big))    \n",
    "    \n",
    "series = pd.Series(winrates, index = x,)\n",
    "series.to_json(f\"stats/winrate_against_missing_digits_ensemble_majority_big_{N_GAMES}_games.json\")"
   ]
  }
 ],
 "metadata": {
  "kernelspec": {
   "display_name": "sudoku_torch",
   "language": "python",
   "name": "python3"
  },
  "language_info": {
   "codemirror_mode": {
    "name": "ipython",
    "version": 3
   },
   "file_extension": ".py",
   "mimetype": "text/x-python",
   "name": "python",
   "nbconvert_exporter": "python",
   "pygments_lexer": "ipython3",
   "version": "3.11.4"
  },
  "orig_nbformat": 4
 },
 "nbformat": 4,
 "nbformat_minor": 2
}
