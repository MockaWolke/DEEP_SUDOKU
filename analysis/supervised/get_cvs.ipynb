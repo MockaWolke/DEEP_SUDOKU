{
 "cells": [
  {
   "cell_type": "code",
   "execution_count": 1,
   "metadata": {},
   "outputs": [],
   "source": [
    "import numpy as np\n",
    "from deepsudoku import REPO_PATH\n",
    "import os\n",
    "import glob\n",
    "import pandas as pd\n",
    "import seaborn as sns\n",
    "import matplotlib.pyplot as plt\n",
    "from pathlib import Path\n",
    "import tqdm\n",
    "\n",
    "os.chdir(REPO_PATH)"
   ]
  },
  {
   "cell_type": "code",
   "execution_count": 2,
   "metadata": {},
   "outputs": [],
   "source": [
    "names = os.listdir(\"supervised_experiments/logs\")\n",
    "comp = [n for n in names if \"same\" in n or n[0]==\"b\"]\n",
    "\n",
    "get_csv = lambda x: os.path.join(\"supervised_experiments/logs\", x, \"logs.csv\")\n",
    "\n",
    "dfs = []\n",
    "\n",
    "for name in comp:\n",
    "    \n",
    "    df = pd.read_csv(get_csv(name), index_col= 0)\n",
    "    df[\"run\"] = name\n",
    "    dfs.append(df)\n",
    "comp = pd.concat(dfs)\n",
    "comp.to_csv(\"stats/dl_archi.csv\")"
   ]
  },
  {
   "cell_type": "code",
   "execution_count": 3,
   "metadata": {},
   "outputs": [
    {
     "name": "stdout",
     "output_type": "stream",
     "text": [
      "['Random_Data_bigger_big_conv_head_1693915710.1695652', 'Group_Data_bigger_big_conv_head_1693983284.6414773']\n"
     ]
    }
   ],
   "source": [
    "names = os.listdir(\"supervised_experiments/logs\")\n",
    "comp = [n for n in names if \"same\" in n or n[0]==\"b\"]\n",
    "not_comp = [n for n in names if n not in comp]\n",
    "print(not_comp)\n",
    "get_csv = lambda x: os.path.join(\"supervised_experiments/logs\", x, \"logs.csv\")\n",
    "\n",
    "dfs = []\n",
    "\n",
    "for name in not_comp:\n",
    "    \n",
    "    df = pd.read_csv(get_csv(name), index_col= 0)\n",
    "    df[\"run\"] = name\n",
    "    dfs.append(df)\n",
    "not_comp = pd.concat(dfs)\n",
    "not_comp.to_csv(\"stats/dl_data.csv\")"
   ]
  }
 ],
 "metadata": {
  "kernelspec": {
   "display_name": "sudoku",
   "language": "python",
   "name": "python3"
  },
  "language_info": {
   "codemirror_mode": {
    "name": "ipython",
    "version": 3
   },
   "file_extension": ".py",
   "mimetype": "text/x-python",
   "name": "python",
   "nbconvert_exporter": "python",
   "pygments_lexer": "ipython3",
   "version": "3.11.0"
  },
  "orig_nbformat": 4
 },
 "nbformat": 4,
 "nbformat_minor": 2
}
