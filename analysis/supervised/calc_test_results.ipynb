{
 "cells": [
  {
   "cell_type": "code",
   "execution_count": 1,
   "metadata": {},
   "outputs": [
    {
     "name": "stderr",
     "output_type": "stream",
     "text": [
      "2023-09-07 09:53:35.053387: I tensorflow/core/platform/cpu_feature_guard.cc:182] This TensorFlow binary is optimized to use available CPU instructions in performance-critical operations.\n",
      "To enable the following instructions: AVX2 FMA, in other operations, rebuild TensorFlow with the appropriate compiler flags.\n",
      "2023-09-07 09:53:35.675355: W tensorflow/compiler/tf2tensorrt/utils/py_utils.cc:38] TF-TRT Warning: Could not find TensorRT\n"
     ]
    }
   ],
   "source": [
    "import numpy as np\n",
    "from deepsudoku import REPO_PATH\n",
    "import os\n",
    "import glob\n",
    "import pandas as pd\n",
    "import seaborn as sns\n",
    "import matplotlib.pyplot as plt\n",
    "from pathlib import Path\n",
    "import tqdm\n",
    "import tensorflow as tf\n",
    "from deepsudoku.supervised_learning import SudukoWrapper, load_supervised_data\n",
    "\n",
    "os.chdir(REPO_PATH)"
   ]
  },
  {
   "cell_type": "code",
   "execution_count": 2,
   "metadata": {},
   "outputs": [],
   "source": [
    "df = load_supervised_data.get_data(\"test\", \"realistic_easy_data\")"
   ]
  },
  {
   "cell_type": "code",
   "execution_count": 3,
   "metadata": {},
   "outputs": [],
   "source": [
    "names = os.listdir(\"supervised_experiments/logs\")\n",
    "comp = [n for n in names if \"same\" in (n or n[0]==\"b\") and \"trans\" not in n] + [\"big_conv_head_1693994852.9515347\"]\n",
    "comp\n",
    "\n",
    "name = \"same_fc_mlp_1693909990.6347742\""
   ]
  },
  {
   "cell_type": "code",
   "execution_count": 4,
   "metadata": {},
   "outputs": [
    {
     "name": "stderr",
     "output_type": "stream",
     "text": [
      "1080000it [00:04, 227971.44it/s]\n",
      "1080000it [00:04, 230032.44it/s]\n",
      "1080000it [00:04, 229126.14it/s]\n",
      "1080000it [00:04, 225461.20it/s]\n",
      "1080000it [00:04, 244670.91it/s]\n"
     ]
    }
   ],
   "source": [
    "def get_df(name):\n",
    "\n",
    "    preds = np.load(os.path.join(\"stats/preds\",f\"{name}.npy\"), )\n",
    "    pred_df = df.copy()\n",
    "    pred_df[\"preds\"] = preds\n",
    "    pred_df[\"win\"] = pred_df.preds ==pred_df.solution\n",
    "\n",
    "    def overlap(str1,str2):\n",
    "\n",
    "        count = 0\n",
    "        for i in range(81):\n",
    "            if str1[i] == str2[i]:\n",
    "                count += 1\n",
    "        return count /81\n",
    "\n",
    "    pred_df[\"accuracy\"] =  [overlap(a,b) for a,b in tqdm.tqdm(zip(pred_df.preds ,pred_df.solution))]\n",
    "\n",
    "    pred_df[\"run\"] = \"\".join([i for i in name.replace(\".\",\"\") if not i.isdigit()]).strip(\"_\")\n",
    "\n",
    "    return pred_df[[\"missing_digits\",\"win\",\"accuracy\",\"run\"]]\n",
    "\n",
    "dfs = []\n",
    "for name in comp:\n",
    "    dfs.append(get_df(name))\n",
    "df = pd.concat(dfs)\n",
    "df.to_csv(\"stats/dl_architectures_test_results.csv\")"
   ]
  }
 ],
 "metadata": {
  "kernelspec": {
   "display_name": "sudoku",
   "language": "python",
   "name": "python3"
  },
  "language_info": {
   "codemirror_mode": {
    "name": "ipython",
    "version": 3
   },
   "file_extension": ".py",
   "mimetype": "text/x-python",
   "name": "python",
   "nbconvert_exporter": "python",
   "pygments_lexer": "ipython3",
   "version": "3.11.0"
  },
  "orig_nbformat": 4
 },
 "nbformat": 4,
 "nbformat_minor": 2
}
