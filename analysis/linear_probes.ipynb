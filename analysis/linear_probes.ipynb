{
 "cells": [
  {
   "cell_type": "code",
   "execution_count": 1,
   "metadata": {},
   "outputs": [
    {
     "name": "stdout",
     "output_type": "stream",
     "text": [
      "Sudoku Environment avaible at gymnasium as 'Sudoku-v0'.\n"
     ]
    },
    {
     "name": "stderr",
     "output_type": "stream",
     "text": [
      "/home/mindset/miniconda3/envs/drl/lib/python3.11/site-packages/tqdm/auto.py:21: TqdmWarning: IProgress not found. Please update jupyter and ipywidgets. See https://ipywidgets.readthedocs.io/en/stable/user_install.html\n",
      "  from .autonotebook import tqdm as notebook_tqdm\n"
     ]
    }
   ],
   "source": [
    "import deepsudoku\n",
    "import os\n",
    "import gymnasium as gym\n",
    "import torch\n",
    "import numpy as np\n",
    "import matplotlib.pyplot as plt\n",
    "import tqdm\n",
    "import deepsudoku.reinforcement_learning\n",
    "from captum.attr import IntegratedGradients\n",
    "\n",
    "os.chdir(deepsudoku.REPO_PATH)\n",
    "\n",
    "from reinforcement_exp.single_action_architectures import *"
   ]
  },
  {
   "cell_type": "code",
   "execution_count": null,
   "metadata": {},
   "outputs": [],
   "source": [
    "# see https://github.com/yukimasano/linear-probes/blob/master/eval_linear_probes.py\n",
    "\n",
    "class Probes(nn.Module):\n",
    "    def __init__(self, trunk, probed_layers):\n",
    "        super(Probes, self).__init__()\n",
    "        self.probed_layers = probed_layers\n",
    "        self.trunk = trunk\n",
    "        self.probes = nn.ModuleList()\n",
    "        for index, name in enumerate(trunk.children()):\n",
    "            x = name.forward(x)\n",
    "            print(f'Visiting layer {index: 3d}: {name} [shape: {x.shape}] ()')\n",
    "            if index in self.probed_layers:\n",
    "                # Downsampler + Linear classifier\n",
    "                # we maybe just want a simple supervised approach\n",
    "\n",
    "                # Attach Probe\n",
    "                self.probes.append(nn.Sequential(downsampler, bn, predictor))\n",
    "                print(f\"Attaching linear probe to layer {index: 3d}: \"\n",
    "                      f\"{name}) with size reduction {x_volume} -> {y_volume} ({downsampler})\")\n",
    "\n",
    "    def forward(self, x):\n",
    "        # pass through all probes and just concat ouput\n",
    "        outputs = []\n",
    "        for index, (name, layer) in enumerate(self.trunk.named_children()):\n",
    "            x = layer.forward(x)\n",
    "            if index in self.probed_layers:\n",
    "                probe_index = self.probed_layers.index(index)\n",
    "                y = self.probes[probe_index](x).squeeze()\n",
    "                outputs += [y]\n",
    "        return outputs\n",
    "\n",
    "    def lp_parameters(self):\n",
    "        return self.probes.parameters()\n",
    "\n",
    "\n",
    "def optimize_linprobes(probes, data):\n",
    "        crossentropy = nn.CrossEntropyLoss().to('cuda:0')\n",
    "        model = probes.to('cuda:0')\n",
    "\n",
    "        optimizer = torch.optim.SGD(model.lp_parameters()) # we optimize all probe parameters in one pass\n",
    "\n",
    "        for epoch in range(first_epoch, 1 if self.validate_only else self.num_epochs):\n",
    "            for iter, (input, label) in enumerate(data):\n",
    "                input = input.to('cuda:0').cuda()\n",
    "                label = label.to('cuda:0')\n",
    "                total_loss = None\n",
    "                predictions = model(input)\n",
    "\n",
    "            for i, prediction in enumerate(predictions):\n",
    "                loss = criterion(prediction, label)\n",
    "                if total_loss is None:\n",
    "                    total_loss = loss\n",
    "                else:\n",
    "                    total_loss = total_loss + loss\n",
    "                \n",
    "            optimizer.zero_grad()\n",
    "            total_loss.backward()\n",
    "            optimizer.step()\n",
    "\n",
    "        return model\n",
    "\n",
    "        \n",
    "\n"
   ]
  },
  {
   "cell_type": "code",
   "execution_count": 12,
   "metadata": {},
   "outputs": [
    {
     "name": "stdout",
     "output_type": "stream",
     "text": [
      "Conv2d(10, 16, kernel_size=(3, 3), stride=(1, 1), padding=(1, 1))\n",
      "ReLU()\n",
      "Conv2d(16, 32, kernel_size=(9, 9), stride=(1, 1), padding=(4, 4))\n",
      "ReLU()\n",
      "Conv2d(32, 9, kernel_size=(9, 9), stride=(1, 1), padding=(4, 4))\n"
     ]
    }
   ],
   "source": [
    "env = gym.make(\"Sudoku-x2\")\n",
    "\n",
    "agent = OnlyConvSeperateValue(True)\n",
    "agent.load_state_dict(torch.load(\"reinforcement_exp/runs/Sudoku-x2__Best_Model_x2_easy__1__1693322907/final_model.pth\",\n",
    "                                    map_location=torch.device('cpu')))\n",
    "agent.eval()\n",
    "\n",
    "# agent.actor  = Conv2d(10, 16, kernel_size=(3, 3), stride=(1, 1), padding=(1, 1))\n",
    "#                ReLU()\n",
    "#                Conv2d(16, 32, kernel_size=(9, 9), stride=(1, 1), padding=(4, 4))\n",
    "#                ReLU()\n",
    "#                Conv2d(32, 9, kernel_size=(9, 9), stride=(1, 1), padding=(4, 4))\n",
    "\n",
    "linprobes = Probes(agent.actor, [0,1,2,3])\n",
    "\n",
    "\n",
    "#obs_, _ = env.reset()\n",
    "#obs = torch.tensor(obs_)[None,:].float()\n",
    "#obs = torch.nn.functional.one_hot(obs.to(torch.int64), 10)\n",
    "#obs = obs.float()\n",
    "\n",
    "# get actual decision\n",
    "#act = agent.get_greedy_action(torch.tensor(obs_)[None,:].float())"
   ]
  },
  {
   "cell_type": "code",
   "execution_count": null,
   "metadata": {},
   "outputs": [],
   "source": []
  }
 ],
 "metadata": {
  "kernelspec": {
   "display_name": "drl",
   "language": "python",
   "name": "python3"
  },
  "language_info": {
   "codemirror_mode": {
    "name": "ipython",
    "version": 3
   },
   "file_extension": ".py",
   "mimetype": "text/x-python",
   "name": "python",
   "nbconvert_exporter": "python",
   "pygments_lexer": "ipython3",
   "version": "3.11.3"
  },
  "orig_nbformat": 4
 },
 "nbformat": 4,
 "nbformat_minor": 2
}
